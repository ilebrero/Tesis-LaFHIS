{
 "cells": [
  {
   "cell_type": "markdown",
   "metadata": {},
   "source": [
    "This script process statistics related to the experiments ran from the benchmark created \n",
    "\n",
    "TODO: Agregar urls, referencias, etc...\n"
   ]
  },
  {
   "cell_type": "code",
   "execution_count": 1,
   "metadata": {},
   "outputs": [],
   "source": [
    "import numpy as np\n",
    "import pandas as pd\n",
    "import matplotlib.pyplot as plt\n",
    "from scipy.stats import wilcoxon as wilcoxon\n",
    "from scipy.stats import stats "
   ]
  },
  {
   "cell_type": "markdown",
   "metadata": {},
   "source": [
    "Atributes that are going to be considered for tracking during iterations"
   ]
  },
  {
   "cell_type": "code",
   "execution_count": 2,
   "metadata": {},
   "outputs": [],
   "source": [
    "# Data that we'll keep track of\n",
    "\n",
    "CLASES = [\n",
    "    \"org.openscience.cdk.index.CASNumber\",\n",
    "    \"se.kth.cid.identity.ResourceURL\",\n",
    "    \"se.kth.cid.identity.URI\",\n",
    "    \"se.kth.cid.identity.URIClassifier\",\n",
    "    \"se.kth.cid.identity.URIUtil\",\n",
    "    \"se.kth.cid.identity.PathURN\",\n",
    "    \"se.kth.cid.identity.URN\",\n",
    "    \"se.kth.cid.identity.MIMEType\",\n",
    "    \"stempeluhr.validation.TimeChecker\",\n",
    "    \"org.jxpfw.util.InternationalBankAccountNumber\",\n",
    "    \"org.jxpfw.util.CLocale\",\n",
    "    \"com.prowidesoftware.swift.model.IBAN\",\n",
    "    \"com.prowidesoftware.swift.model.BIC\",\n",
    "    \"com.sun.jndi.toolkit.url.ConcreteURLContext\",\n",
    "    \"java.util.regex.Pattern\",\n",
    "    \"java.util.ArrayList\",\n",
    "    \"org.apache.commons.cli.CommandLine\",\n",
    "    \"org.jdom.Attribute\",\n",
    "    \"org.apache.commons.codec.language.DoubleMetaphone\",\n",
    "    \"org.joda.time.DateTime\",\n",
    "    \"org.joda.time.format.DateTimeFormat\",\n",
    "    \"org.jgrapht.alg.BellmanFordIterator\",\n",
    "    \"org.apache.commons.math3.transform.FastFourierTransformer\",\n",
    "    \"net.n3.nanoxml.XMLElement\"\n",
    "]\n",
    "\n",
    "TIME_ATTRS = [\n",
    "    \"Time_Check JUnit\",\n",
    "    \"Time_Coverage Analysis\",\n",
    "    \"Time_Done\",\n",
    "    \"Time_Generating assertions\",\n",
    "    \"Time_Initializing\",\n",
    "    \"Time_Inlining\",\n",
    "    \"Time_JUnit\",\n",
    "    \"Time_Minimizing\",\n",
    "    \"Time_Search\",\n",
    "]\n",
    "\n",
    "COLUMNS = [\n",
    "    \"Coverage\",\n",
    "    \"TotalNumberOfConstraints\",\n",
    "    \"TotalTimeSpentExecutingConcolicaly\",\n",
    "    \"TotalTimeSpentExecutingTestCases\",\n",
    "    \"TotalTimeSpentExecutingNonConcolicTestCases\",\n",
    "    \"TotalTimeSpentSolvingConstraints\",\n",
    "    \"AvgPathConditionLength\",\n",
    "    \"MaxPathConditionLength\",\n",
    "    \"MinPathConditionLength\",\n",
    "    \"NumberOfPathsExplored\",\n",
    "    \"NumberOfPathsDiverged\",\n",
    "    \"NumberOfSATQueries\",\n",
    "    \"NumberOfUsefulNewTests\",\n",
    "    \"NumberOfTimeoutQueries\",\n",
    "    \"NumberOfUNSATQueries\",\n",
    "    \"NumberOfUnusefulNewTests\"\n",
    "]\n",
    "\n",
    "\n",
    "IMPORTANT_COLUMNS = [\n",
    "    \"TotalNumberOfConstraints\",\n",
    "    \"TotalTimeSpentExecutingConcolicaly\",\n",
    "    \"TotalTimeSpentExecutingTestCases\",\n",
    "    \"TotalTimeSpentExecutingNonConcolicTestCases\",\n",
    "    \"TotalTimeSpentSolvingConstraints\",\n",
    "    \"AvgPathConditionLength\",\n",
    "    \"MaxPathConditionLength\",\n",
    "    \"MinPathConditionLength\",\n",
    "    \"NumberOfPathsExplored\",\n",
    "    \"NumberOfPathsDiverged\",\n",
    "    \"NumberOfSATQueries\",\n",
    "    \"NumberOfUsefulNewTests\",\n",
    "    \"NumberOfTimeoutQueries\",\n",
    "    \"NumberOfUNSATQueries\",\n",
    "    \"NumberOfUnusefulNewTests\"\n",
    "]"
   ]
  },
  {
   "cell_type": "markdown",
   "metadata": {},
   "source": [
    "Init of internal data representation\n",
    "## Main idea\n",
    "For each tested class, track differences through iterations\n",
    "## Structure \n",
    "Class -> attribute -> algorithm_version -> iteration value"
   ]
  },
  {
   "cell_type": "code",
   "execution_count": 3,
   "metadata": {},
   "outputs": [
    {
     "name": "stdout",
     "output_type": "stream",
     "text": [
      "['Coverage', 'TotalNumberOfConstraints', 'TotalTimeSpentExecutingConcolicaly', 'TotalTimeSpentExecutingTestCases', 'TotalTimeSpentExecutingNonConcolicTestCases', 'TotalTimeSpentSolvingConstraints', 'AvgPathConditionLength', 'MaxPathConditionLength', 'MinPathConditionLength', 'NumberOfPathsExplored', 'NumberOfPathsDiverged', 'NumberOfSATQueries', 'NumberOfUsefulNewTests', 'NumberOfTimeoutQueries', 'NumberOfUNSATQueries', 'NumberOfUnusefulNewTests']\n"
     ]
    }
   ],
   "source": [
    "print(COLUMNS)"
   ]
  },
  {
   "cell_type": "code",
   "execution_count": 4,
   "metadata": {},
   "outputs": [],
   "source": [
    "data = dict()\n",
    "\n",
    "for claz in CLASES:\n",
    "    data[claz] = dict()\n",
    "    \n",
    "    for col in COLUMNS:\n",
    "        data[claz][col] = dict()\n",
    "        data[claz][col][\"new_algorithm\"] = []\n",
    "        data[claz][col][\"old_algorithm\"] = []"
   ]
  },
  {
   "cell_type": "markdown",
   "metadata": {},
   "source": [
    "## Data recolection"
   ]
  },
  {
   "cell_type": "markdown",
   "metadata": {},
   "source": [
    "### New data style recolection"
   ]
  },
  {
   "cell_type": "code",
   "execution_count": 5,
   "metadata": {},
   "outputs": [],
   "source": [
    "# viejos = old_data.loc[:, \"TARGET_CLASS\"].to_numpy()\n",
    "# nuevos = new_data.loc[:, \"TARGET_CLASS\"].to_numpy()\n",
    "\n",
    "# viejos = np.delete(viejos,60)\n",
    "# nuevos = np.delete(nuevos,107)\n",
    "# nuevos = np.delete(nuevos,138)\n",
    "\n",
    "# for i in range(len(viejos)):\n",
    "#     if (not viejos[i] == nuevos[i]):\n",
    "#         print(\"difiere en {} | nuevo: {} | viejo: {}\".format(i, nuevos[i], viejos[i])) \n",
    "#     else:\n",
    "#         print(\"todo bien en {} | nuevo: {} | viejo: {}\".format(i, nuevos[i], viejos[i])) \n",
    "\n",
    "# # for index, claz in enumerate(old_data.loc[:, \"TARGET_CLASS\"].to_numpy()):\n",
    "# #     print(\"index: {} | claz: {}\".format(index, claz))"
   ]
  },
  {
   "cell_type": "code",
   "execution_count": 6,
   "metadata": {},
   "outputs": [],
   "source": [
    "new_data = pd.read_csv(\n",
    "    '../Benchmarks/clases_del_paper/repos/jars/evosuite-report/statistics_new_algorithm.csv'\n",
    ")\n",
    "old_data = pd.read_csv(\n",
    "    '../Benchmarks/clases_del_paper/repos/jars/evosuite-report/statistics_old_algorithm.csv'\n",
    ")\n",
    "\n",
    "for index, claz in enumerate(old_data.loc[:, \"TARGET_CLASS\"].to_numpy()):\n",
    "    for col in COLUMNS:\n",
    "\n",
    "        # If for any reason the experiment data is not there, we just skip it\n",
    "        # TODO: why this may happen??? \n",
    "        if (claz in old_data.loc[:, \"TARGET_CLASS\"].to_numpy() \n",
    "            and col  in old_data.columns):\n",
    "            \n",
    "            aux_old_data = old_data.loc[index, col]\n",
    "            \n",
    "            data[claz][col][\"old_algorithm\"].append(\n",
    "                aux_old_data\n",
    "            )\n",
    "\n",
    "for index, claz in enumerate(new_data.loc[:, \"TARGET_CLASS\"].to_numpy()):\n",
    "    for col in COLUMNS:\n",
    "\n",
    "        # If for any reason the experiment data is not there, we just skip it\n",
    "        # TODO: why this may happen???             \n",
    "        if (claz in new_data.loc[:, \"TARGET_CLASS\"].to_numpy() \n",
    "            and col  in new_data.columns):\n",
    "\n",
    "            aux_data = new_data.loc[index, col]\n",
    "            \n",
    "            data[claz][col][\"new_algorithm\"].append(\n",
    "                aux_data\n",
    "            )"
   ]
  },
  {
   "cell_type": "markdown",
   "metadata": {},
   "source": [
    "# Data showoff"
   ]
  },
  {
   "cell_type": "markdown",
   "metadata": {},
   "source": [
    "### First case\n",
    "At first glance, generate the two columns for comparing the coverage and time data for the statistical tests."
   ]
  },
  {
   "cell_type": "code",
   "execution_count": 7,
   "metadata": {},
   "outputs": [],
   "source": [
    "\n",
    "TotalNumberOfConstraints_old = dict()\n",
    "TotalNumberOfConstraints_new = dict()\n",
    "\n",
    "TotalTimeSpentExecutingConcolicaly_old = dict()\n",
    "TotalTimeSpentExecutingConcolicaly_new = dict()\n",
    "\n",
    "AvgPathConditionLength_old = dict()\n",
    "AvgPathConditionLength_new = dict()\n",
    "\n",
    "NumberOfPathsExplored_old = dict()\n",
    "NumberOfPathsExplored_new = dict()\n",
    "\n",
    "NumberOfPathsDiverged_old = dict()\n",
    "NumberOfPathsDiverged_new = dict()\n",
    "\n",
    "TotalTimeSpentSolvingConstraints_old = dict()\n",
    "TotalTimeSpentSolvingConstraints_new = dict()\n",
    "\n",
    "coverages_old = dict()\n",
    "coverages_new = dict()\n",
    "\n",
    "TotalTimeSpentExecutingTestCases_old = dict()\n",
    "TotalTimeSpentExecutingTestCases_new = dict()\n",
    "\n",
    "TotalTimeSpentExecutingNonConcolicTestCases_old = dict()\n",
    "TotalTimeSpentExecutingNonConcolicTestCases_new = dict()\n",
    "\n",
    "for claz in CLASES:\n",
    "    TotalNumberOfConstraints_old[claz] = []\n",
    "    TotalNumberOfConstraints_new[claz] = []\n",
    "\n",
    "    TotalTimeSpentExecutingConcolicaly_old[claz] = []\n",
    "    TotalTimeSpentExecutingConcolicaly_new[claz] = []\n",
    "\n",
    "    AvgPathConditionLength_old[claz] = []\n",
    "    AvgPathConditionLength_new[claz] = []\n",
    "\n",
    "    NumberOfPathsExplored_old[claz] = []\n",
    "    NumberOfPathsExplored_new[claz] = []\n",
    "\n",
    "    NumberOfPathsDiverged_old[claz] = []\n",
    "    NumberOfPathsDiverged_new[claz] = []\n",
    "\n",
    "    TotalTimeSpentSolvingConstraints_old[claz] = []\n",
    "    TotalTimeSpentSolvingConstraints_new[claz] = []\n",
    "\n",
    "    coverages_old[claz] = []\n",
    "    coverages_new[claz] = []\n",
    "\n",
    "    TotalTimeSpentExecutingTestCases_old[claz] = []\n",
    "    TotalTimeSpentExecutingTestCases_new[claz] = []\n",
    "    \n",
    "    TotalTimeSpentExecutingNonConcolicTestCases_old[claz] = []\n",
    "    TotalTimeSpentExecutingNonConcolicTestCases_new[claz] = []\n",
    "    \n",
    "    \n",
    "for claz in CLASES:\n",
    "\n",
    "#     TotalNumberOfConstraints_old[claz] = TotalNumberOfConstraints_old[claz] + data[claz][\"TotalNumberOfConstraints\"][\"old_algorithm\"]\n",
    "#     TotalNumberOfConstraints_new[claz] = TotalNumberOfConstraints_new[claz] + data[claz][\"TotalNumberOfConstraints\"][\"old_algorithm\"]\n",
    "    \n",
    "    TotalTimeSpentExecutingConcolicaly_old[claz] = TotalTimeSpentExecutingConcolicaly_old[claz] + data[claz][\"TotalTimeSpentExecutingConcolicaly\"][\"old_algorithm\"]\n",
    "    TotalTimeSpentExecutingConcolicaly_new[claz] = TotalTimeSpentExecutingConcolicaly_new[claz] + data[claz][\"TotalTimeSpentExecutingConcolicaly\"][\"old_algorithm\"]\n",
    "    \n",
    "    AvgPathConditionLength_old[claz] = AvgPathConditionLength_old[claz] + data[claz][\"AvgPathConditionLength\"][\"old_algorithm\"]\n",
    "    AvgPathConditionLength_new[claz] = AvgPathConditionLength_new[claz] + data[claz][\"AvgPathConditionLength\"][\"old_algorithm\"]\n",
    "    \n",
    "    NumberOfPathsExplored_old[claz] = NumberOfPathsExplored_old[claz] + data[claz][\"NumberOfPathsExplored\"][\"old_algorithm\"]\n",
    "    NumberOfPathsExplored_new[claz] = NumberOfPathsExplored_new[claz] + data[claz][\"NumberOfPathsExplored\"][\"old_algorithm\"]\n",
    "    \n",
    "    NumberOfPathsDiverged_old[claz] = NumberOfPathsDiverged_old[claz] + data[claz][\"NumberOfPathsDiverged\"][\"old_algorithm\"]\n",
    "    NumberOfPathsDiverged_new[claz] = NumberOfPathsDiverged_new[claz] + data[claz][\"NumberOfPathsDiverged\"][\"old_algorithm\"]\n",
    "    \n",
    "    TotalTimeSpentSolvingConstraints_old[claz] = TotalTimeSpentSolvingConstraints_old[claz] + data[claz][\"TotalTimeSpentSolvingConstraints\"][\"old_algorithm\"]\n",
    "    TotalTimeSpentSolvingConstraints_new[claz] = TotalTimeSpentSolvingConstraints_new[claz] + data[claz][\"TotalTimeSpentSolvingConstraints\"][\"old_algorithm\"]\n",
    "    \n",
    "    # Coverages     \n",
    "    coverages_old[claz] = coverages_old[claz] + data[claz][\"Coverage\"][\"old_algorithm\"]\n",
    "    coverages_new[claz] = coverages_new[claz] + data[claz][\"Coverage\"][\"new_algorithm\"]\n",
    "    \n",
    "    # TotalTimeSpentExecutingTestCases\n",
    "    TotalTimeSpentExecutingTestCases_old[claz] = TotalTimeSpentExecutingTestCases_old[claz] + data[claz][\"TotalTimeSpentExecutingTestCases\"][\"old_algorithm\"]\n",
    "    TotalTimeSpentExecutingTestCases_new[claz] = TotalTimeSpentExecutingTestCases_new[claz] + data[claz][\"TotalTimeSpentExecutingTestCases\"][\"new_algorithm\"]\n",
    "    \n",
    "\n",
    "# # Cleaning up clases that ran well on one sido but not on the other\n",
    "# coverages_old = np.delete(coverages_old,60)\n",
    "# coverages_new = np.delete(coverages_new,[107, 138])\n",
    "# times_old = np.delete(times_old,60)\n",
    "# times_new = np.delete(times_new,[107, 138])"
   ]
  },
  {
   "cell_type": "code",
   "execution_count": 24,
   "metadata": {},
   "outputs": [
    {
     "name": "stdout",
     "output_type": "stream",
     "text": [
      "#### Describing class: org.openscience.cdk.index.CASNumber\n",
      "coverage_old\n",
      "DescribeResult(nobs=10, minmax=(0.2, 0.2), mean=0.2, variance=0.0, skewness=0.0, kurtosis=-3.0)\n",
      "coverage_new\n",
      "DescribeResult(nobs=10, minmax=(0.3333333333333333, 0.3333333333333333), mean=0.33333333333333337, variance=3.4238754566884194e-33, skewness=-1.0, kurtosis=-2.0)\n",
      "time_old\n",
      "DescribeResult(nobs=10, minmax=(1824, 2459), mean=2070.0, variance=35272.666666666664, skewness=0.7555281904652059, kurtosis=-0.08010487347612205)\n",
      "time_new\n",
      "DescribeResult(nobs=10, minmax=(2113, 2580), mean=2363.7, variance=19378.233333333334, skewness=-0.26161792692413893, kurtosis=-0.6870880513473994)\n",
      "#### Describing class: se.kth.cid.identity.ResourceURL\n",
      "coverage_old\n",
      "DescribeResult(nobs=10, minmax=(0.0, 0.0), mean=0.0, variance=0.0, skewness=0.0, kurtosis=-3.0)\n",
      "coverage_new\n",
      "DescribeResult(nobs=10, minmax=(0.0, 0.0), mean=0.0, variance=0.0, skewness=0.0, kurtosis=-3.0)\n",
      "time_old\n",
      "DescribeResult(nobs=10, minmax=(561, 767), mean=649.7, variance=5759.344444444445, skewness=0.3297239514006097, kurtosis=-1.2470520423824076)\n",
      "time_new\n",
      "DescribeResult(nobs=10, minmax=(528, 819), mean=642.8, variance=12825.066666666668, skewness=0.7328444967516748, kurtosis=-1.225052079992751)\n",
      "#### Describing class: se.kth.cid.identity.URI\n",
      "coverage_old\n",
      "DescribeResult(nobs=10, minmax=(0.0, 0.0), mean=0.0, variance=0.0, skewness=0.0, kurtosis=-3.0)\n",
      "coverage_new\n",
      "DescribeResult(nobs=10, minmax=(0.0, 0.0), mean=0.0, variance=0.0, skewness=0.0, kurtosis=-3.0)\n",
      "time_old\n",
      "DescribeResult(nobs=10, minmax=(742, 1153), mean=836.7, variance=16384.01111111111, skewness=1.6861932420559542, kurtosis=1.7904930998666382)\n",
      "time_new\n",
      "DescribeResult(nobs=10, minmax=(686, 1131), mean=826.3, variance=27063.12222222222, skewness=1.0773562205568243, kurtosis=-0.3893023452430664)\n",
      "#### Describing class: se.kth.cid.identity.URIClassifier\n",
      "coverage_old\n",
      "DescribeResult(nobs=10, minmax=(0.5333333333333333, 0.5666666666666667), mean=0.5366666666666666, variance=0.00011111111111111106, skewness=2.6666666666666767, kurtosis=5.1111111111111445)\n",
      "coverage_new\n",
      "DescribeResult(nobs=10, minmax=(0.5, 0.5666666666666667), mean=0.5333333333333332, variance=0.0002469135802469135, skewness=2.2296441690084016e-14, kurtosis=2.0000000000000018)\n",
      "time_old\n",
      "DescribeResult(nobs=10, minmax=(3268, 5123), mean=3714.8, variance=301987.2888888889, skewness=1.8208434061687884, kurtosis=2.461978935028294)\n",
      "time_new\n",
      "DescribeResult(nobs=10, minmax=(2831, 5223), mean=3547.8, variance=424376.6222222222, skewness=1.7857522962323922, kurtosis=2.624069233251288)\n",
      "#### Describing class: se.kth.cid.identity.URIUtil\n",
      "#### Describing class: se.kth.cid.identity.PathURN\n",
      "coverage_old\n",
      "DescribeResult(nobs=10, minmax=(0.0, 0.0), mean=0.0, variance=0.0, skewness=0.0, kurtosis=-3.0)\n",
      "coverage_new\n",
      "DescribeResult(nobs=10, minmax=(0.0, 0.0), mean=0.0, variance=0.0, skewness=0.0, kurtosis=-3.0)\n",
      "time_old\n",
      "DescribeResult(nobs=10, minmax=(558, 789), mean=647.9, variance=6151.655555555556, skewness=0.5179212893633994, kurtosis=-1.000253831637588)\n",
      "time_new\n",
      "DescribeResult(nobs=10, minmax=(524, 770), mean=664.2, variance=6845.733333333333, skewness=-0.2068808733857652, kurtosis=-1.1537069031739466)\n",
      "#### Describing class: se.kth.cid.identity.URN\n",
      "coverage_old\n",
      "DescribeResult(nobs=10, minmax=(0.0, 0.0), mean=0.0, variance=0.0, skewness=0.0, kurtosis=-3.0)\n",
      "coverage_new\n",
      "DescribeResult(nobs=10, minmax=(0.0, 0.0), mean=0.0, variance=0.0, skewness=0.0, kurtosis=-3.0)\n",
      "time_old\n",
      "DescribeResult(nobs=10, minmax=(555, 834), mean=636.8, variance=6684.4, skewness=1.4398790717456007, kurtosis=1.4254824734972082)\n",
      "time_new\n",
      "DescribeResult(nobs=10, minmax=(541, 841), mean=638.0, variance=10466.0, skewness=0.9289365904254069, kurtosis=-0.48544634885759175)\n",
      "#### Describing class: se.kth.cid.identity.MIMEType\n",
      "coverage_old\n",
      "DescribeResult(nobs=10, minmax=(0.0, 0.0), mean=0.0, variance=0.0, skewness=0.0, kurtosis=-3.0)\n",
      "coverage_new\n",
      "DescribeResult(nobs=10, minmax=(0.0, 0.0), mean=0.0, variance=0.0, skewness=0.0, kurtosis=-3.0)\n",
      "time_old\n",
      "DescribeResult(nobs=10, minmax=(560, 673), mean=618.6, variance=2188.0444444444447, skewness=-0.10604579185743157, kurtosis=-1.6821884302619339)\n",
      "time_new\n",
      "DescribeResult(nobs=10, minmax=(542, 722), mean=607.3, variance=2504.4555555555553, skewness=1.1060004114589792, kurtosis=0.8644071432585916)\n",
      "#### Describing class: stempeluhr.validation.TimeChecker\n",
      "coverage_old\n",
      "DescribeResult(nobs=10, minmax=(0.0, 0.0), mean=0.0, variance=0.0, skewness=0.0, kurtosis=-3.0)\n",
      "coverage_new\n",
      "DescribeResult(nobs=10, minmax=(0.0, 0.0), mean=0.0, variance=0.0, skewness=0.0, kurtosis=-3.0)\n",
      "time_old\n",
      "DescribeResult(nobs=10, minmax=(529, 750), mean=638.8, variance=4779.288888888888, skewness=0.08759980586991506, kurtosis=-0.7660725849496255)\n",
      "time_new\n",
      "DescribeResult(nobs=10, minmax=(531, 641), mean=575.8, variance=1367.288888888889, skewness=0.5745641646310877, kurtosis=-0.6452449664785194)\n",
      "#### Describing class: org.jxpfw.util.InternationalBankAccountNumber\n",
      "#### Describing class: org.jxpfw.util.CLocale\n",
      "#### Describing class: com.prowidesoftware.swift.model.IBAN\n",
      "coverage_old\n",
      "DescribeResult(nobs=10, minmax=(0.06521739130434782, 0.06521739130434782), mean=0.06521739130434781, variance=2.139922160430262e-34, skewness=1.0, kurtosis=-2.0)\n",
      "coverage_new\n",
      "DescribeResult(nobs=10, minmax=(0.06521739130434782, 0.06521739130434782), mean=0.06521739130434781, variance=2.139922160430262e-34, skewness=1.0, kurtosis=-2.0)\n",
      "time_old\n",
      "DescribeResult(nobs=10, minmax=(2577, 4421), mean=2970.6, variance=275809.5999999999, skewness=2.380391788419822, kurtosis=4.238288679044155)\n",
      "time_new\n",
      "DescribeResult(nobs=10, minmax=(2517, 3328), mean=2877.5, variance=75612.72222222222, skewness=0.37044221296195784, kurtosis=-1.2350919619277636)\n",
      "#### Describing class: com.prowidesoftware.swift.model.BIC\n",
      "coverage_old\n",
      "DescribeResult(nobs=10, minmax=(0.0, 0.0), mean=0.0, variance=0.0, skewness=0.0, kurtosis=-3.0)\n",
      "coverage_new\n",
      "DescribeResult(nobs=10, minmax=(0.0, 0.0), mean=0.0, variance=0.0, skewness=0.0, kurtosis=-3.0)\n",
      "time_old\n",
      "DescribeResult(nobs=10, minmax=(783, 1229), mean=869.4, variance=17733.377777777776, skewness=2.2261959836921292, kurtosis=3.622490536447194)\n",
      "time_new\n",
      "DescribeResult(nobs=10, minmax=(772, 930), mean=828.5, variance=2780.722222222222, skewness=0.7228152192969092, kurtosis=-0.48850375994608974)\n",
      "#### Describing class: com.sun.jndi.toolkit.url.ConcreteURLContext\n",
      "#### Describing class: java.util.regex.Pattern\n",
      "#### Describing class: java.util.ArrayList\n",
      "#### Describing class: org.apache.commons.cli.CommandLine\n",
      "coverage_old\n",
      "DescribeResult(nobs=10, minmax=(0.0, 0.0), mean=0.0, variance=0.0, skewness=0.0, kurtosis=-3.0)\n",
      "coverage_new\n",
      "DescribeResult(nobs=10, minmax=(0.0, 0.0), mean=0.0, variance=0.0, skewness=0.0, kurtosis=-3.0)\n",
      "time_old\n",
      "DescribeResult(nobs=10, minmax=(707, 1054), mean=813.8, variance=11103.955555555556, skewness=1.2450542727683955, kurtosis=0.6878268248678845)\n",
      "time_new\n",
      "DescribeResult(nobs=10, minmax=(672, 937), mean=752.9, variance=5266.766666666666, skewness=1.6959083451673855, kurtosis=2.3416198860735546)\n",
      "#### Describing class: org.jdom.Attribute\n",
      "#### Describing class: org.apache.commons.codec.language.DoubleMetaphone\n",
      "coverage_old\n",
      "DescribeResult(nobs=10, minmax=(0.0, 0.0), mean=0.0, variance=0.0, skewness=0.0, kurtosis=-3.0)\n",
      "coverage_new\n",
      "DescribeResult(nobs=10, minmax=(0.0, 0.0), mean=0.0, variance=0.0, skewness=0.0, kurtosis=-3.0)\n",
      "time_old\n",
      "DescribeResult(nobs=10, minmax=(3031, 3842), mean=3360.5, variance=49064.27777777778, skewness=0.7971207326991387, kurtosis=0.5634443776359901)\n",
      "time_new\n",
      "DescribeResult(nobs=10, minmax=(2717, 4228), mean=3348.5, variance=182491.61111111112, skewness=0.8104620858914204, kurtosis=0.1720449003781792)\n",
      "#### Describing class: org.joda.time.DateTime\n",
      "#### Describing class: org.joda.time.format.DateTimeFormat\n",
      "coverage_old\n",
      "DescribeResult(nobs=4, minmax=(0.3986928104575164, 0.6209150326797386), mean=0.46786492374727673, variance=0.010595402527992556, skewness=1.0937331389667546, kurtosis=-0.7100948430616754)\n",
      "coverage_new\n",
      "DescribeResult(nobs=10, minmax=(0.4117647058823529, 0.5620915032679739), mean=0.45359477124183006, variance=0.0031113916827388843, skewness=1.3919876320944256, kurtosis=0.12470495913399526)\n",
      "time_old\n",
      "DescribeResult(nobs=4, minmax=(216805, 238661), mean=223593.75, variance=104976771.58333333, skewness=1.0277897369857936, kurtosis=-0.7796070403365776)\n",
      "time_new\n",
      "DescribeResult(nobs=10, minmax=(204000, 224988), mean=217208.8, variance=59176604.177777775, skewness=-0.5816583705067652, kurtosis=-1.2096079281065177)\n",
      "#### Describing class: org.jgrapht.alg.BellmanFordIterator\n",
      "coverage_old\n",
      "DescribeResult(nobs=10, minmax=(0.0, 0.0), mean=0.0, variance=0.0, skewness=0.0, kurtosis=-3.0)\n",
      "coverage_new\n",
      "DescribeResult(nobs=10, minmax=(0.0, 0.0), mean=0.0, variance=0.0, skewness=0.0, kurtosis=-3.0)\n",
      "time_old\n",
      "DescribeResult(nobs=10, minmax=(1278, 1781), mean=1420.7, variance=28714.01111111111, skewness=1.2638665521994639, kurtosis=0.14193686050479304)\n",
      "time_new\n",
      "DescribeResult(nobs=10, minmax=(1222, 1705), mean=1320.8, variance=19795.066666666666, skewness=2.2774382163325306, kurtosis=3.937709068850899)\n",
      "#### Describing class: org.apache.commons.math3.transform.FastFourierTransformer\n",
      "coverage_old\n",
      "DescribeResult(nobs=10, minmax=(0.0, 0.0), mean=0.0, variance=0.0, skewness=0.0, kurtosis=-3.0)\n",
      "coverage_new\n",
      "DescribeResult(nobs=10, minmax=(0.0, 0.0), mean=0.0, variance=0.0, skewness=0.0, kurtosis=-3.0)\n",
      "time_old\n",
      "DescribeResult(nobs=10, minmax=(2330, 2876), mean=2563.0, variance=27464.666666666668, skewness=0.39371673961507414, kurtosis=-0.704086083991101)\n",
      "time_new\n",
      "DescribeResult(nobs=10, minmax=(2120, 2903), mean=2469.2, variance=44041.288888888885, skewness=0.5118678993447859, kurtosis=0.2731284786213459)\n",
      "#### Describing class: net.n3.nanoxml.XMLElement\n",
      "coverage_old\n",
      "DescribeResult(nobs=10, minmax=(0.0, 0.0), mean=0.0, variance=0.0, skewness=0.0, kurtosis=-3.0)\n",
      "coverage_new\n",
      "DescribeResult(nobs=10, minmax=(0.0, 0.0), mean=0.0, variance=0.0, skewness=0.0, kurtosis=-3.0)\n",
      "time_old\n",
      "DescribeResult(nobs=10, minmax=(859, 1464), mean=1006.5, variance=33866.27777777778, skewness=1.7699035943673287, kurtosis=1.921095143544978)\n",
      "time_new\n",
      "DescribeResult(nobs=10, minmax=(834, 1154), mean=949.6, variance=11722.044444444446, skewness=0.972727505588111, kurtosis=-0.31756877642154935)\n"
     ]
    }
   ],
   "source": [
    "# times_new.pop(63)\n",
    "# times_new\n",
    "\n",
    "# coverages_new.pop(62) # 62 \n",
    "# coverages_new\n",
    "\n",
    "# coverages_old\n",
    "# coverages_new\n",
    "\n",
    "for claz in CLASES:\n",
    "    print(\"#### Describing class: {}\".format(claz))\n",
    "    \n",
    "    if (not (len(coverages_new[claz]) == 0 or len(coverages_old[claz]) == 0)):\n",
    "        print(\"coverage_old\")\n",
    "        print(stats.describe(coverages_old[claz]))\n",
    "        print(\"coverage_new\")\n",
    "        print(stats.describe(coverages_new[claz]))\n",
    "    \n",
    "    if (not (len(times_new[claz]) == 0 or len(times_old[claz]) == 0)):\n",
    "        print(\"time_old\")\n",
    "        print(stats.describe(times_old[claz]))\n",
    "        print(\"time_new\")\n",
    "        print(stats.describe(times_new[claz]))        \n",
    "        \n",
    "# for claz in CLASES:\n",
    "#     # Coverages\n",
    "#     print(data[claz][\"Coverage\"][\"new_algorithm\"])\n",
    "\n",
    "# wilcoxon(coverages_new, coverages_old)"
   ]
  },
  {
   "cell_type": "markdown",
   "metadata": {},
   "source": [
    "# Clases resulting in coverage higher than zero"
   ]
  },
  {
   "cell_type": "code",
   "execution_count": 25,
   "metadata": {},
   "outputs": [
    {
     "name": "stdout",
     "output_type": "stream",
     "text": [
      "classes with coverage: ['org.openscience.cdk.index.CASNumber', 'se.kth.cid.identity.URIClassifier', 'com.prowidesoftware.swift.model.IBAN', 'org.joda.time.format.DateTimeFormat']\n",
      "classes without coverage: ['se.kth.cid.identity.ResourceURL', 'se.kth.cid.identity.URI', 'se.kth.cid.identity.URIUtil', 'se.kth.cid.identity.PathURN', 'se.kth.cid.identity.URN', 'se.kth.cid.identity.MIMEType', 'stempeluhr.validation.TimeChecker', 'org.jxpfw.util.InternationalBankAccountNumber', 'org.jxpfw.util.CLocale', 'com.prowidesoftware.swift.model.BIC', 'com.sun.jndi.toolkit.url.ConcreteURLContext', 'java.util.regex.Pattern', 'java.util.ArrayList', 'org.apache.commons.cli.CommandLine', 'org.jdom.Attribute', 'org.apache.commons.codec.language.DoubleMetaphone', 'org.joda.time.DateTime', 'org.jgrapht.alg.BellmanFordIterator', 'org.apache.commons.math3.transform.FastFourierTransformer', 'net.n3.nanoxml.XMLElement']\n"
     ]
    }
   ],
   "source": [
    "def higher(arr):\n",
    "    for i in arr:\n",
    "        if i > 0.0:\n",
    "            return True\n",
    "    return False\n",
    "\n",
    "CLASSES_COVERAGE = []\n",
    "CLASSES_NO_COVERAGE = []\n",
    "\n",
    "for claz in CLASES:\n",
    "    if ( higher(coverages_new[claz]) or higher(coverages_old[claz])):\n",
    "        CLASSES_COVERAGE.append(claz)\n",
    "    else:\n",
    "        CLASSES_NO_COVERAGE.append(claz)\n",
    "        \n",
    "print(\"classes with coverage: {}\".format(CLASSES_COVERAGE))\n",
    "print(\"classes without coverage: {}\".format(CLASSES_NO_COVERAGE))"
   ]
  },
  {
   "cell_type": "markdown",
   "metadata": {},
   "source": [
    "# Boxplots for results"
   ]
  },
  {
   "cell_type": "code",
   "execution_count": 26,
   "metadata": {},
   "outputs": [
    {
     "name": "stdout",
     "output_type": "stream",
     "text": [
      "################## Class: org.openscience.cdk.index.CASNumber ##################\n",
      "stats data for new coverage\n",
      "[0.3333333333333333, 0.3333333333333333, 0.3333333333333333, 0.3333333333333333, 0.3333333333333333, 0.3333333333333333, 0.3333333333333333, 0.3333333333333333, 0.3333333333333333, 0.3333333333333333]\n",
      "DescribeResult(nobs=10, minmax=(0.3333333333333333, 0.3333333333333333), mean=0.33333333333333337, variance=3.4238754566884194e-33, skewness=-1.0, kurtosis=-2.0)\n",
      "stats data for old coverage\n",
      "[0.2, 0.2, 0.2, 0.2, 0.2, 0.2, 0.2, 0.2, 0.2, 0.2]\n",
      "DescribeResult(nobs=10, minmax=(0.2, 0.2), mean=0.2, variance=0.0, skewness=0.0, kurtosis=-3.0)\n"
     ]
    },
    {
     "data": {
      "image/png": "[encoded data removed]",
      "text/plain": [
       "<Figure size 432x288 with 1 Axes>"
      ]
     },
     "metadata": {
      "needs_background": "light"
     },
     "output_type": "display_data"
    },
    {
     "name": "stdout",
     "output_type": "stream",
     "text": [
      "stats data for new times\n",
      "[2219, 2454, 2404, 2301, 2441, 2351, 2580, 2494, 2280, 2113]\n",
      "DescribeResult(nobs=10, minmax=(2113, 2580), mean=2363.7, variance=19378.233333333334, skewness=-0.26161792692413893, kurtosis=-0.6870880513473994)\n",
      "stats data for old time\n",
      "[1893, 1824, 2135, 2459, 2041, 1932, 2047, 2128, 2264, 1977]\n",
      "DescribeResult(nobs=10, minmax=(1824, 2459), mean=2070.0, variance=35272.666666666664, skewness=0.7555281904652059, kurtosis=-0.08010487347612205)\n"
     ]
    },
    {
     "data": {
      "image/png": "[encoded data removed]",
      "text/plain": [
       "<Figure size 432x288 with 1 Axes>"
      ]
     },
     "metadata": {
      "needs_background": "light"
     },
     "output_type": "display_data"
    },
    {
     "name": "stdout",
     "output_type": "stream",
     "text": [
      "################## Class: se.kth.cid.identity.URIClassifier ##################\n",
      "stats data for new coverage\n",
      "[0.5333333333333333, 0.5333333333333333, 0.5333333333333333, 0.5333333333333333, 0.5333333333333333, 0.5333333333333333, 0.5, 0.5333333333333333, 0.5666666666666667, 0.5333333333333333]\n",
      "DescribeResult(nobs=10, minmax=(0.5, 0.5666666666666667), mean=0.5333333333333332, variance=0.0002469135802469135, skewness=2.2296441690084016e-14, kurtosis=2.0000000000000018)\n",
      "stats data for old coverage\n",
      "[0.5333333333333333, 0.5333333333333333, 0.5333333333333333, 0.5333333333333333, 0.5333333333333333, 0.5333333333333333, 0.5333333333333333, 0.5333333333333333, 0.5666666666666667, 0.5333333333333333]\n",
      "DescribeResult(nobs=10, minmax=(0.5333333333333333, 0.5666666666666667), mean=0.5366666666666666, variance=0.00011111111111111106, skewness=2.6666666666666767, kurtosis=5.1111111111111445)\n"
     ]
    },
    {
     "data": {
      "image/png": "[encoded data removed]",
      "text/plain": [
       "<Figure size 432x288 with 1 Axes>"
      ]
     },
     "metadata": {
      "needs_background": "light"
     },
     "output_type": "display_data"
    },
    {
     "name": "stdout",
     "output_type": "stream",
     "text": [
      "stats data for new times\n",
      "[3456, 3851, 3368, 3104, 3333, 3201, 3516, 3595, 5223, 2831]\n",
      "DescribeResult(nobs=10, minmax=(2831, 5223), mean=3547.8, variance=424376.6222222222, skewness=1.7857522962323922, kurtosis=2.624069233251288)\n",
      "stats data for old time\n",
      "[3357, 3492, 3788, 4011, 3268, 3562, 3474, 3292, 5123, 3781]\n",
      "DescribeResult(nobs=10, minmax=(3268, 5123), mean=3714.8, variance=301987.2888888889, skewness=1.8208434061687884, kurtosis=2.461978935028294)\n"
     ]
    },
    {
     "data": {
      "image/png": "[encoded data removed]",
      "text/plain": [
       "<Figure size 432x288 with 1 Axes>"
      ]
     },
     "metadata": {
      "needs_background": "light"
     },
     "output_type": "display_data"
    },
    {
     "name": "stdout",
     "output_type": "stream",
     "text": [
      "################## Class: com.prowidesoftware.swift.model.IBAN ##################\n",
      "stats data for new coverage\n",
      "[0.06521739130434782, 0.06521739130434782, 0.06521739130434782, 0.06521739130434782, 0.06521739130434782, 0.06521739130434782, 0.06521739130434782, 0.06521739130434782, 0.06521739130434782, 0.06521739130434782]\n",
      "DescribeResult(nobs=10, minmax=(0.06521739130434782, 0.06521739130434782), mean=0.06521739130434781, variance=2.139922160430262e-34, skewness=1.0, kurtosis=-2.0)\n",
      "stats data for old coverage\n",
      "[0.06521739130434782, 0.06521739130434782, 0.06521739130434782, 0.06521739130434782, 0.06521739130434782, 0.06521739130434782, 0.06521739130434782, 0.06521739130434782, 0.06521739130434782, 0.06521739130434782]\n",
      "DescribeResult(nobs=10, minmax=(0.06521739130434782, 0.06521739130434782), mean=0.06521739130434781, variance=2.139922160430262e-34, skewness=1.0, kurtosis=-2.0)\n"
     ]
    },
    {
     "data": {
      "image/png": "[encoded data removed]",
      "text/plain": [
       "<Figure size 432x288 with 1 Axes>"
      ]
     },
     "metadata": {
      "needs_background": "light"
     },
     "output_type": "display_data"
    },
    {
     "name": "stdout",
     "output_type": "stream",
     "text": [
      "stats data for new times\n",
      "[2732, 2747, 3097, 2606, 3214, 3328, 3053, 2795, 2686, 2517]\n",
      "DescribeResult(nobs=10, minmax=(2517, 3328), mean=2877.5, variance=75612.72222222222, skewness=0.37044221296195784, kurtosis=-1.2350919619277636)\n",
      "stats data for old time\n",
      "[2577, 2908, 2760, 4421, 2695, 3045, 2773, 2792, 2838, 2897]\n",
      "DescribeResult(nobs=10, minmax=(2577, 4421), mean=2970.6, variance=275809.5999999999, skewness=2.380391788419822, kurtosis=4.238288679044155)\n"
     ]
    },
    {
     "data": {
      "image/png": "[encoded data removed]",
      "text/plain": [
       "<Figure size 432x288 with 1 Axes>"
      ]
     },
     "metadata": {
      "needs_background": "light"
     },
     "output_type": "display_data"
    },
    {
     "name": "stdout",
     "output_type": "stream",
     "text": [
      "################## Class: org.joda.time.format.DateTimeFormat ##################\n",
      "stats data for new coverage\n",
      "[0.4313725490196079, 0.5533769063180828, 0.4400871459694989, 0.5620915032679739, 0.4226579520697168, 0.4422657952069717, 0.4335511982570806, 0.4161220043572985, 0.4226579520697168, 0.4117647058823529]\n",
      "DescribeResult(nobs=10, minmax=(0.4117647058823529, 0.5620915032679739), mean=0.45359477124183006, variance=0.0031113916827388843, skewness=1.3919876320944256, kurtosis=0.12470495913399526)\n",
      "stats data for old coverage\n",
      "[0.6209150326797386, 0.3986928104575164, 0.4313725490196079, 0.42047930283224394]\n",
      "DescribeResult(nobs=4, minmax=(0.3986928104575164, 0.6209150326797386), mean=0.46786492374727673, variance=0.010595402527992556, skewness=1.0937331389667546, kurtosis=-0.7100948430616754)\n"
     ]
    },
    {
     "data": {
      "image/png": "[encoded data removed]",
      "text/plain": [
       "<Figure size 432x288 with 1 Axes>"
      ]
     },
     "metadata": {
      "needs_background": "light"
     },
     "output_type": "display_data"
    },
    {
     "name": "stdout",
     "output_type": "stream",
     "text": [
      "stats data for new times\n",
      "[220150, 204000, 221648, 224988, 213057, 223849, 207326, 224233, 210957, 221880]\n",
      "DescribeResult(nobs=10, minmax=(204000, 224988), mean=217208.8, variance=59176604.177777775, skewness=-0.5816583705067652, kurtosis=-1.2096079281065177)\n",
      "stats data for old time\n",
      "[238661, 216805, 221398, 217511]\n",
      "DescribeResult(nobs=4, minmax=(216805, 238661), mean=223593.75, variance=104976771.58333333, skewness=1.0277897369857936, kurtosis=-0.7796070403365776)\n"
     ]
    },
    {
     "data": {
      "image/png": "[encoded data removed]",
      "text/plain": [
       "<Figure size 432x288 with 1 Axes>"
      ]
     },
     "metadata": {
      "needs_background": "light"
     },
     "output_type": "display_data"
    }
   ],
   "source": [
    "import time\n",
    "from scipy import stats\n",
    "\n",
    "for claz in CLASSES_COVERAGE:\n",
    "    print(\"################## Class: {} ##################\".format(claz))\n",
    "    if (not (len(coverages_new[claz]) == 0 or len(coverages_old[claz]) == 0)):\n",
    "        coveragess = [\n",
    "            coverages_old[claz],\n",
    "            coverages_new[claz]\n",
    "        ]\n",
    "        \n",
    "        print(\"stats data for new coverage\")\n",
    "        print(coverages_new[claz])\n",
    "        print(stats.describe(coverages_new[claz]))\n",
    "        print(\"stats data for old coverage\")\n",
    "        print(coverages_old[claz])\n",
    "        print(stats.describe(coverages_old[claz]))\n",
    "\n",
    "        fig1, ax1 = plt.subplots()\n",
    "        ax1.set_title('Basic Plot')\n",
    "        ax1.boxplot(coveragess)\n",
    "        plt.show()\n",
    "    else:\n",
    "        print(\"========= Fitered =========\")\n",
    "        print(claz)\n",
    "        print(\"===========================\")\n",
    "        \n",
    "    if (not (len(times_new[claz]) == 0 or len(times_old[claz]) == 0)):\n",
    "        timess = [\n",
    "            times_old[claz],\n",
    "            times_new[claz]\n",
    "        ]\n",
    "        \n",
    "        \n",
    "        print(\"stats data for new times\")\n",
    "        print(times_new[claz])\n",
    "        print(stats.describe(times_new[claz]))\n",
    "        print(\"stats data for old time\")\n",
    "        print(times_old[claz])\n",
    "        print(stats.describe(times_old[claz]))\n",
    "        \n",
    "        fig2, ax2 = plt.subplots()\n",
    "        ax2.set_title('Basic Plot')\n",
    "        ax2.boxplot(timess)\n",
    "        plt.show()\n",
    "    else:\n",
    "        print(\"========= Fitered =========\")\n",
    "        print(claz)\n",
    "        print(\"===========================\")"
   ]
  },
  {
   "cell_type": "markdown",
   "metadata": {},
   "source": [
    "Clases that contained Coverage were:\n",
    "    - CASNumber\n",
    "    - URIClassifier\n",
    "    - IBAN\n",
    "    - DateTimeFormat\n",
    "    \n",
    "As can be seen coverages were a bit different were the new exploration algorithm performed better at times \n",
    "    - CASNumes:\n",
    "        - new: 0.33\n",
    "        - old: 0.2\n",
    "    - URIClassifier\n",
    "        - new: 0.533\n",
    "        - old: 0.536\n",
    "    - IBAN:\n",
    "        - new: 0.065\n",
    "        - old: 0.065\n",
    "    - DateTimeFormat: This is the most interesting case as it contains several static methods which ends up in a lot of paths to explore, the search budget was 180 seconds and it kept having paths to explore after that. Even though coverage was almost 7% less than the old algorithm\n",
    "        - new: 0.48\n",
    "        - old: 0.56\n",
    "        "
   ]
  }
 ],
 "metadata": {
  "kernelspec": {
   "display_name": "Python 3",
   "language": "python",
   "name": "python3"
  },
  "language_info": {
   "codemirror_mode": {
    "name": "ipython",
    "version": 3
   },
   "file_extension": ".py",
   "mimetype": "text/x-python",
   "name": "python",
   "nbconvert_exporter": "python",
   "pygments_lexer": "ipython3",
   "version": "3.6.9"
  }
 },
 "nbformat": 4,
 "nbformat_minor": 2
}
