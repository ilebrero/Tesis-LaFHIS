{
 "cells": [
  {
   "cell_type": "markdown",
   "metadata": {},
   "source": [
    "This script process statistics related to the experiments ran from the benchmark created \n",
    "\n",
    "TODO: Agregar urls, referencias, etc...\n"
   ]
  },
  {
   "cell_type": "code",
   "execution_count": 5,
   "metadata": {},
   "outputs": [],
   "source": [
    "import numpy as np\n",
    "import pandas as pd\n",
    "import matplotlib.pyplot as plt\n",
    "from scipy.stats import wilcoxon as wilcoxon\n",
    "from scipy.stats import stats "
   ]
  },
  {
   "cell_type": "code",
   "execution_count": null,
   "metadata": {},
   "outputs": [],
   "source": []
  },
  {
   "cell_type": "markdown",
   "metadata": {},
   "source": [
    "Atributes that are going to be considered for tracking during iterations"
   ]
  },
  {
   "cell_type": "code",
   "execution_count": 80,
   "metadata": {},
   "outputs": [],
   "source": [
    "# Data that we'll keep track of\n",
    "\n",
    "CLASES = [\n",
    "#     \"org.openscience.cdk.index.CASNumber\",\n",
    "#     \"se.kth.cid.identity.ResourceURL\",\n",
    "#     \"se.kth.cid.identity.URI\",\n",
    "#     \"se.kth.cid.identity.URIClassifier\",\n",
    "#     \"se.kth.cid.identity.URIUtil\",\n",
    "#     \"se.kth.cid.identity.PathURN\",\n",
    "#     \"se.kth.cid.identity.URN\",\n",
    "#     \"se.kth.cid.identity.MIMEType\",\n",
    "#     \"stempeluhr.validation.TimeChecker\",\n",
    "#     \"org.jxpfw.util.InternationalBankAccountNumber\",\n",
    "#     \"org.jxpfw.util.CLocale\",\n",
    "#     \"com.prowidesoftware.swift.model.IBAN\",\n",
    "#     \"com.prowidesoftware.swift.model.BIC\",\n",
    "#     \"com.sun.jndi.toolkit.url.ConcreteURLContext\",\n",
    "#     \"java.util.regex.Pattern\",\n",
    "#     \"java.util.ArrayList\",\n",
    "#     \"org.apache.commons.cli.CommandLine\",\n",
    "#     \"org.jdom.Attribute\",\n",
    "#     \"org.apache.commons.codec.language.DoubleMetaphone\",\n",
    "#     \"org.joda.time.DateTime\",\n",
    "    \"org.joda.time.format.DateTimeFormat\",\n",
    "#     \"org.jgrapht.alg.BellmanFordIterator\",\n",
    "#     \"org.apache.commons.math3.transform.FastFourierTransformer\",\n",
    "#     \"net.n3.nanoxml.XMLElement\"\n",
    "]\n",
    "\n",
    "TIME_ATTRS = [\n",
    "    \"Time_Check JUnit\",\n",
    "    \"Time_Coverage Analysis\",\n",
    "    \"Time_Done\",\n",
    "    \"Time_Generating assertions\",\n",
    "    \"Time_Initializing\",\n",
    "    \"Time_Inlining\",\n",
    "    \"Time_JUnit\",\n",
    "    \"Time_Minimizing\",\n",
    "    \"Time_Search\",\n",
    "]\n",
    "\n",
    "COLUMNS = [\n",
    "    \"Coverage\",\n",
    "    \"QueryCacheCalls\",\n",
    "    \"QueryCacheHitRate\",\n",
    "#     \"TotalNumberOfConstraints\", No longer supported\n",
    "    \"TotalTimeSpentExecutingConcolicaly\",\n",
    "    \"TotalTimeSpentExecutingTestCases\",\n",
    "    \"TotalTimeSpentExecutingNonConcolicTestCases\",\n",
    "    \"TotalTimeSpentSolvingConstraints\",\n",
    "    \"AvgPathConditionLength\",\n",
    "    \"MaxPathConditionLength\",\n",
    "    \"MinPathConditionLength\",\n",
    "    \"NumberOfPathsExplored\",\n",
    "    \"NumberOfPathsDiverged\",\n",
    "    \"NumberOfSATQueries\",\n",
    "    \"NumberOfUsefulNewTests\",\n",
    "    \"NumberOfTimeoutQueries\",\n",
    "    \"NumberOfUNSATQueries\",\n",
    "    \"NumberOfUnusefulNewTests\"\n",
    "]\n",
    "\n",
    "\n",
    "IMPORTANT_COLUMNS = [\n",
    "    \"Coverage\"\n",
    "#     \"TotalNumberOfConstraints\",\n",
    "#     \"TotalTimeSpentExecutingConcolicaly\",\n",
    "#     \"TotalTimeSpentExecutingTestCases\",\n",
    "#     \"TotalTimeSpentExecutingNonConcolicTestCases\",\n",
    "#     \"TotalTimeSpentSolvingConstraints\",\n",
    "#     \"AvgPathConditionLength\",\n",
    "#     \"MaxPathConditionLength\",\n",
    "#     \"MinPathConditionLength\",\n",
    "#     \"NumberOfPathsExplored\",\n",
    "#     \"NumberOfPathsDiverged\",\n",
    "#     \"NumberOfSATQueries\",\n",
    "#     \"NumberOfUsefulNewTests\",\n",
    "#     \"NumberOfTimeoutQueries\",\n",
    "#     \"NumberOfUNSATQueries\",\n",
    "#     \"NumberOfUnusefulNewTests\"\n",
    "]"
   ]
  },
  {
   "cell_type": "markdown",
   "metadata": {},
   "source": [
    "Init of internal data representation\n",
    "## Main idea\n",
    "For each tested class, track differences through iterations\n",
    "## Structure \n",
    "Class -> attribute -> algorithm_version -> iteration value"
   ]
  },
  {
   "cell_type": "code",
   "execution_count": 40,
   "metadata": {},
   "outputs": [
    {
     "name": "stdout",
     "output_type": "stream",
     "text": [
      "['Coverage', 'QueryCacheCalls', 'QueryCacheHitRate', 'TotalTimeSpentExecutingConcolicaly', 'TotalTimeSpentExecutingTestCases', 'TotalTimeSpentExecutingNonConcolicTestCases', 'TotalTimeSpentSolvingConstraints', 'AvgPathConditionLength', 'MaxPathConditionLength', 'MinPathConditionLength', 'NumberOfPathsExplored', 'NumberOfPathsDiverged', 'NumberOfSATQueries', 'NumberOfUsefulNewTests', 'NumberOfTimeoutQueries', 'NumberOfUNSATQueries', 'NumberOfUnusefulNewTests']\n"
     ]
    }
   ],
   "source": [
    "print(COLUMNS)"
   ]
  },
  {
   "cell_type": "code",
   "execution_count": 41,
   "metadata": {},
   "outputs": [],
   "source": [
    "data = dict()\n",
    "\n",
    "for claz in CLASES:\n",
    "    data[claz] = dict()\n",
    "    \n",
    "    for col in COLUMNS:\n",
    "        data[claz][col] = dict()\n",
    "        data[claz][col][\"new_algorithm\"] = []\n",
    "        data[claz][col][\"old_algorithm\"] = []"
   ]
  },
  {
   "cell_type": "markdown",
   "metadata": {},
   "source": [
    "## Data recolection"
   ]
  },
  {
   "cell_type": "markdown",
   "metadata": {},
   "source": [
    "### New data style recolection"
   ]
  },
  {
   "cell_type": "code",
   "execution_count": 9,
   "metadata": {},
   "outputs": [],
   "source": [
    "# viejos = old_data.loc[:, \"TARGET_CLASS\"].to_numpy()\n",
    "# nuevos = new_data.loc[:, \"TARGET_CLASS\"].to_numpy()\n",
    "\n",
    "# viejos = np.delete(viejos,60)\n",
    "# nuevos = np.delete(nuevos,107)\n",
    "# nuevos = np.delete(nuevos,138)\n",
    "\n",
    "# for i in range(len(viejos)):\n",
    "#     if (not viejos[i] == nuevos[i]):\n",
    "#         print(\"difiere en {} | nuevo: {} | viejo: {}\".format(i, nuevos[i], viejos[i])) \n",
    "#     else:\n",
    "#         print(\"todo bien en {} | nuevo: {} | viejo: {}\".format(i, nuevos[i], viejos[i])) \n",
    "\n",
    "# # for index, claz in enumerate(old_data.loc[:, \"TARGET_CLASS\"].to_numpy()):\n",
    "# #     print(\"index: {} | claz: {}\".format(index, claz))"
   ]
  },
  {
   "cell_type": "code",
   "execution_count": null,
   "metadata": {},
   "outputs": [],
   "source": []
  },
  {
   "cell_type": "code",
   "execution_count": null,
   "metadata": {},
   "outputs": [],
   "source": []
  },
  {
   "cell_type": "code",
   "execution_count": null,
   "metadata": {},
   "outputs": [],
   "source": []
  },
  {
   "cell_type": "code",
   "execution_count": 42,
   "metadata": {},
   "outputs": [],
   "source": [
    "new_data = pd.read_csv(\n",
    "    '../Benchmarks/clases_del_paper/repos/jars/evosuite-report/statistics_new_algorithm_180s.csv'\n",
    ")\n",
    "old_data = pd.read_csv(\n",
    "    '../Benchmarks/clases_del_paper/repos/jars/evosuite-report/statistics_old_algorithm_180s.csv'\n",
    ")\n",
    "\n",
    "for index, claz in enumerate(old_data.loc[:, \"TARGET_CLASS\"].to_numpy()):\n",
    "    for col in COLUMNS:\n",
    "\n",
    "        # If for any reason the experiment data is not there, we just skip it\n",
    "        # TODO: why this may happen??? \n",
    "        if (claz in old_data.loc[:, \"TARGET_CLASS\"].to_numpy() \n",
    "            and claz in CLASES\n",
    "            and col  in old_data.columns):\n",
    "            \n",
    "            aux_old_data = old_data.loc[index, col]\n",
    "            \n",
    "            data[claz][col][\"old_algorithm\"].append(\n",
    "                aux_old_data\n",
    "            )\n",
    "\n",
    "for index, claz in enumerate(new_data.loc[:, \"TARGET_CLASS\"].to_numpy()):\n",
    "    for col in COLUMNS:\n",
    "        \n",
    "        # If for any reason the experiment data is not there, we just skip it\n",
    "        # TODO: why this may happen???             \n",
    "        if (claz in new_data.loc[:, \"TARGET_CLASS\"].to_numpy() \n",
    "            and claz in CLASES\n",
    "            and col  in new_data.columns):\n",
    "\n",
    "            aux_data = new_data.loc[index, col]\n",
    "            \n",
    "            data[claz][col][\"new_algorithm\"].append(\n",
    "                aux_data\n",
    "            )"
   ]
  },
  {
   "cell_type": "markdown",
   "metadata": {},
   "source": [
    "## Coberages measures\n",
    "We recolect the doverages in a more readable way"
   ]
  },
  {
   "cell_type": "code",
   "execution_count": 108,
   "metadata": {},
   "outputs": [],
   "source": [
    "coverages_old = dict()\n",
    "coverages_new = dict()\n",
    "\n",
    "for claz in CLASES:\n",
    "    coverages_old[claz] = []\n",
    "    coverages_new[claz] = []\n",
    "\n",
    "for claz in CLASES:\n",
    "    coverages_old[claz] = coverages_old[claz] + data[claz][\"NumberOfTimeoutQueries\"][\"old_algorithm\"]\n",
    "    coverages_new[claz] = coverages_new[claz] + data[claz][\"NumberOfTimeoutQueries\"][\"new_algorithm\"]"
   ]
  },
  {
   "cell_type": "code",
   "execution_count": 109,
   "metadata": {},
   "outputs": [
    {
     "name": "stdout",
     "output_type": "stream",
     "text": [
      "#### Describing class: org.joda.time.format.DateTimeFormat\n",
      "coverage_old\n",
      "DescribeResult(nobs=10, minmax=(0, 0), mean=0.0, variance=0.0, skewness=0.0, kurtosis=-3.0)\n",
      "coverage_new\n",
      "DescribeResult(nobs=10, minmax=(0, 109), mean=28.6, variance=1679.377777777778, skewness=1.1928021240935083, kurtosis=-0.187642976504232)\n"
     ]
    }
   ],
   "source": [
    "for claz in CLASES:\n",
    "    print(\"#### Describing class: {}\".format(claz))\n",
    "    \n",
    "    if (not (len(coverages_new[claz]) == 0 or len(coverages_old[claz]) == 0)):\n",
    "        print(\"coverage_old\")\n",
    "        print(stats.describe(coverages_old[claz]))\n",
    "        print(\"coverage_new\")\n",
    "        print(stats.describe(coverages_new[claz]))"
   ]
  },
  {
   "cell_type": "code",
   "execution_count": 110,
   "metadata": {},
   "outputs": [
    {
     "name": "stdout",
     "output_type": "stream",
     "text": [
      "#### CLASS:org.joda.time.format.DateTimeFormat####\n"
     ]
    },
    {
     "data": {
      "image/png": "[encoded data removed]",
      "text/plain": [
       "<Figure size 432x288 with 1 Axes>"
      ]
     },
     "metadata": {
      "needs_background": "light"
     },
     "output_type": "display_data"
    }
   ],
   "source": [
    "for claz in CLASES:\n",
    "    coveragess = [\n",
    "        coverages_old[claz],\n",
    "        coverages_new[claz]\n",
    "    ]\n",
    "    \n",
    "    print(\"#### CLASS:\" + claz + \"####\")\n",
    "#     print(\"stats data for new coverage\")\n",
    "#     print(coverages_new[claz])\n",
    "#     print(stats.describe(coverages_new[claz]))\n",
    "#     print(\"stats data for old coverage\")\n",
    "#     print(coverages_old[claz])\n",
    "#     print(stats.describe(coverages_old[claz]))\n",
    "\n",
    "    fig1, ax1 = plt.subplots()\n",
    "    ax1.set_title('Basic Plot')\n",
    "    ax1.boxplot(coveragess)\n",
    "    plt.show()"
   ]
  },
  {
   "cell_type": "markdown",
   "metadata": {},
   "source": [
    "# Other Metrics\n"
   ]
  },
  {
   "cell_type": "code",
   "execution_count": null,
   "metadata": {},
   "outputs": [],
   "source": []
  },
  {
   "cell_type": "code",
   "execution_count": null,
   "metadata": {},
   "outputs": [],
   "source": []
  },
  {
   "cell_type": "code",
   "execution_count": null,
   "metadata": {},
   "outputs": [],
   "source": []
  },
  {
   "cell_type": "markdown",
   "metadata": {},
   "source": [
    "# Data showoff"
   ]
  },
  {
   "cell_type": "markdown",
   "metadata": {},
   "source": [
    "### First case\n",
    "At first glance, generate the two columns for comparing the coverage and time data for the statistical tests."
   ]
  },
  {
   "cell_type": "code",
   "execution_count": 7,
   "metadata": {},
   "outputs": [],
   "source": [
    "\n",
    "TotalNumberOfConstraints_old = dict()\n",
    "TotalNumberOfConstraints_new = dict()\n",
    "\n",
    "TotalTimeSpentExecutingConcolicaly_old = dict()\n",
    "TotalTimeSpentExecutingConcolicaly_new = dict()\n",
    "\n",
    "AvgPathConditionLength_old = dict()\n",
    "AvgPathConditionLength_new = dict()\n",
    "\n",
    "NumberOfPathsExplored_old = dict()\n",
    "NumberOfPathsExplored_new = dict()\n",
    "\n",
    "NumberOfPathsDiverged_old = dict()\n",
    "NumberOfPathsDiverged_new = dict()\n",
    "\n",
    "TotalTimeSpentSolvingConstraints_old = dict()\n",
    "TotalTimeSpentSolvingConstraints_new = dict()\n",
    "\n",
    "coverages_old = dict()\n",
    "coverages_new = dict()\n",
    "\n",
    "TotalTimeSpentExecutingTestCases_old = dict()\n",
    "TotalTimeSpentExecutingTestCases_new = dict()\n",
    "\n",
    "TotalTimeSpentExecutingNonConcolicTestCases_old = dict()\n",
    "TotalTimeSpentExecutingNonConcolicTestCases_new = dict()\n",
    "\n",
    "for claz in CLASES:\n",
    "    TotalNumberOfConstraints_old[claz] = []\n",
    "    TotalNumberOfConstraints_new[claz] = []\n",
    "\n",
    "    TotalTimeSpentExecutingConcolicaly_old[claz] = []\n",
    "    TotalTimeSpentExecutingConcolicaly_new[claz] = []\n",
    "\n",
    "    AvgPathConditionLength_old[claz] = []\n",
    "    AvgPathConditionLength_new[claz] = []\n",
    "\n",
    "    NumberOfPathsExplored_old[claz] = []\n",
    "    NumberOfPathsExplored_new[claz] = []\n",
    "\n",
    "    NumberOfPathsDiverged_old[claz] = []\n",
    "    NumberOfPathsDiverged_new[claz] = []\n",
    "\n",
    "    TotalTimeSpentSolvingConstraints_old[claz] = []\n",
    "    TotalTimeSpentSolvingConstraints_new[claz] = []\n",
    "\n",
    "    coverages_old[claz] = []\n",
    "    coverages_new[claz] = []\n",
    "\n",
    "    TotalTimeSpentExecutingTestCases_old[claz] = []\n",
    "    TotalTimeSpentExecutingTestCases_new[claz] = []\n",
    "    \n",
    "    TotalTimeSpentExecutingNonConcolicTestCases_old[claz] = []\n",
    "    TotalTimeSpentExecutingNonConcolicTestCases_new[claz] = []\n",
    "    \n",
    "    \n",
    "for claz in CLASES:\n",
    "\n",
    "#     TotalNumberOfConstraints_old[claz] = TotalNumberOfConstraints_old[claz] + data[claz][\"TotalNumberOfConstraints\"][\"old_algorithm\"]\n",
    "#     TotalNumberOfConstraints_new[claz] = TotalNumberOfConstraints_new[claz] + data[claz][\"TotalNumberOfConstraints\"][\"old_algorithm\"]\n",
    "    \n",
    "    TotalTimeSpentExecutingConcolicaly_old[claz] = TotalTimeSpentExecutingConcolicaly_old[claz] + data[claz][\"TotalTimeSpentExecutingConcolicaly\"][\"old_algorithm\"]\n",
    "    TotalTimeSpentExecutingConcolicaly_new[claz] = TotalTimeSpentExecutingConcolicaly_new[claz] + data[claz][\"TotalTimeSpentExecutingConcolicaly\"][\"old_algorithm\"]\n",
    "    \n",
    "    AvgPathConditionLength_old[claz] = AvgPathConditionLength_old[claz] + data[claz][\"AvgPathConditionLength\"][\"old_algorithm\"]\n",
    "    AvgPathConditionLength_new[claz] = AvgPathConditionLength_new[claz] + data[claz][\"AvgPathConditionLength\"][\"old_algorithm\"]\n",
    "    \n",
    "    NumberOfPathsExplored_old[claz] = NumberOfPathsExplored_old[claz] + data[claz][\"NumberOfPathsExplored\"][\"old_algorithm\"]\n",
    "    NumberOfPathsExplored_new[claz] = NumberOfPathsExplored_new[claz] + data[claz][\"NumberOfPathsExplored\"][\"old_algorithm\"]\n",
    "    \n",
    "    NumberOfPathsDiverged_old[claz] = NumberOfPathsDiverged_old[claz] + data[claz][\"NumberOfPathsDiverged\"][\"old_algorithm\"]\n",
    "    NumberOfPathsDiverged_new[claz] = NumberOfPathsDiverged_new[claz] + data[claz][\"NumberOfPathsDiverged\"][\"old_algorithm\"]\n",
    "    \n",
    "    TotalTimeSpentSolvingConstraints_old[claz] = TotalTimeSpentSolvingConstraints_old[claz] + data[claz][\"TotalTimeSpentSolvingConstraints\"][\"old_algorithm\"]\n",
    "    TotalTimeSpentSolvingConstraints_new[claz] = TotalTimeSpentSolvingConstraints_new[claz] + data[claz][\"TotalTimeSpentSolvingConstraints\"][\"old_algorithm\"]\n",
    "    \n",
    "    # Coverages     \n",
    "    coverages_old[claz] = coverages_old[claz] + data[claz][\"Coverage\"][\"old_algorithm\"]\n",
    "    coverages_new[claz] = coverages_new[claz] + data[claz][\"Coverage\"][\"new_algorithm\"]\n",
    "    \n",
    "    # TotalTimeSpentExecutingTestCases\n",
    "    TotalTimeSpentExecutingTestCases_old[claz] = TotalTimeSpentExecutingTestCases_old[claz] + data[claz][\"TotalTimeSpentExecutingTestCases\"][\"old_algorithm\"]\n",
    "    TotalTimeSpentExecutingTestCases_new[claz] = TotalTimeSpentExecutingTestCases_new[claz] + data[claz][\"TotalTimeSpentExecutingTestCases\"][\"new_algorithm\"]\n",
    "    \n",
    "\n",
    "# # Cleaning up clases that ran well on one sido but not on the other\n",
    "# coverages_old = np.delete(coverages_old,60)\n",
    "# coverages_new = np.delete(coverages_new,[107, 138])\n",
    "# times_old = np.delete(times_old,60)\n",
    "# times_new = np.delete(times_new,[107, 138])"
   ]
  },
  {
   "cell_type": "code",
   "execution_count": 39,
   "metadata": {},
   "outputs": [
    {
     "name": "stdout",
     "output_type": "stream",
     "text": [
      "#### Describing class: se.kth.cid.identity.URIClassifier\n",
      "coverage_old\n",
      "DescribeResult(nobs=20, minmax=(0.5, 0.5666666666666667), mean=0.5366666666666666, variance=0.00033918128654970744, skewness=0.07683945028016509, kurtosis=0.30202140309155645)\n",
      "coverage_new\n",
      "DescribeResult(nobs=20, minmax=(0.5666666666666667, 0.9333333333333332), mean=0.6466666666666666, variance=0.013847953216374262, skewness=1.4709646314695115, kurtosis=1.0883172023374748)\n"
     ]
    },
    {
     "ename": "NameError",
     "evalue": "name 'times_new' is not defined",
     "output_type": "error",
     "traceback": [
      "\u001b[0;31m---------------------------------------------------------------------------\u001b[0m",
      "\u001b[0;31mNameError\u001b[0m                                 Traceback (most recent call last)",
      "\u001b[0;32m<ipython-input-39-3b6f0cd5519e>\u001b[0m in \u001b[0;36m<module>\u001b[0;34m\u001b[0m\n\u001b[1;32m     17\u001b[0m         \u001b[0mprint\u001b[0m\u001b[0;34m(\u001b[0m\u001b[0mstats\u001b[0m\u001b[0;34m.\u001b[0m\u001b[0mdescribe\u001b[0m\u001b[0;34m(\u001b[0m\u001b[0mcoverages_new\u001b[0m\u001b[0;34m[\u001b[0m\u001b[0mclaz\u001b[0m\u001b[0;34m]\u001b[0m\u001b[0;34m)\u001b[0m\u001b[0;34m)\u001b[0m\u001b[0;34m\u001b[0m\u001b[0;34m\u001b[0m\u001b[0m\n\u001b[1;32m     18\u001b[0m \u001b[0;34m\u001b[0m\u001b[0m\n\u001b[0;32m---> 19\u001b[0;31m     \u001b[0;32mif\u001b[0m \u001b[0;34m(\u001b[0m\u001b[0;32mnot\u001b[0m \u001b[0;34m(\u001b[0m\u001b[0mlen\u001b[0m\u001b[0;34m(\u001b[0m\u001b[0mtimes_new\u001b[0m\u001b[0;34m[\u001b[0m\u001b[0mclaz\u001b[0m\u001b[0;34m]\u001b[0m\u001b[0;34m)\u001b[0m \u001b[0;34m==\u001b[0m \u001b[0;36m0\u001b[0m \u001b[0;32mor\u001b[0m \u001b[0mlen\u001b[0m\u001b[0;34m(\u001b[0m\u001b[0mtimes_old\u001b[0m\u001b[0;34m[\u001b[0m\u001b[0mclaz\u001b[0m\u001b[0;34m]\u001b[0m\u001b[0;34m)\u001b[0m \u001b[0;34m==\u001b[0m \u001b[0;36m0\u001b[0m\u001b[0;34m)\u001b[0m\u001b[0;34m)\u001b[0m\u001b[0;34m:\u001b[0m\u001b[0;34m\u001b[0m\u001b[0;34m\u001b[0m\u001b[0m\n\u001b[0m\u001b[1;32m     20\u001b[0m         \u001b[0mprint\u001b[0m\u001b[0;34m(\u001b[0m\u001b[0;34m\"time_old\"\u001b[0m\u001b[0;34m)\u001b[0m\u001b[0;34m\u001b[0m\u001b[0;34m\u001b[0m\u001b[0m\n\u001b[1;32m     21\u001b[0m         \u001b[0mprint\u001b[0m\u001b[0;34m(\u001b[0m\u001b[0mstats\u001b[0m\u001b[0;34m.\u001b[0m\u001b[0mdescribe\u001b[0m\u001b[0;34m(\u001b[0m\u001b[0mtimes_old\u001b[0m\u001b[0;34m[\u001b[0m\u001b[0mclaz\u001b[0m\u001b[0;34m]\u001b[0m\u001b[0;34m)\u001b[0m\u001b[0;34m)\u001b[0m\u001b[0;34m\u001b[0m\u001b[0;34m\u001b[0m\u001b[0m\n",
      "\u001b[0;31mNameError\u001b[0m: name 'times_new' is not defined"
     ]
    }
   ],
   "source": [
    "for claz in CLASES:\n",
    "    print(\"#### Describing class: {}\".format(claz))\n",
    "    \n",
    "    if (not (len(coverages_new[claz]) == 0 or len(coverages_old[claz]) == 0)):\n",
    "        print(\"coverage_old\")\n",
    "        print(stats.describe(coverages_old[claz]))\n",
    "        print(\"coverage_new\")\n",
    "        print(stats.describe(coverages_new[claz]))\n",
    "    \n",
    "    if (not (len(times_new[claz]) == 0 or len(times_old[claz]) == 0)):\n",
    "        print(\"time_old\")\n",
    "        print(stats.describe(times_old[claz]))\n",
    "        print(\"time_new\")\n",
    "        print(stats.describe(times_new[claz]))        "
   ]
  },
  {
   "cell_type": "code",
   "execution_count": null,
   "metadata": {},
   "outputs": [],
   "source": []
  },
  {
   "cell_type": "markdown",
   "metadata": {},
   "source": [
    "# Clases resulting in coverage higher than zero"
   ]
  },
  {
   "cell_type": "code",
   "execution_count": 25,
   "metadata": {},
   "outputs": [
    {
     "name": "stdout",
     "output_type": "stream",
     "text": [
      "classes with coverage: ['org.openscience.cdk.index.CASNumber', 'se.kth.cid.identity.URIClassifier', 'com.prowidesoftware.swift.model.IBAN', 'org.joda.time.format.DateTimeFormat']\n",
      "classes without coverage: ['se.kth.cid.identity.ResourceURL', 'se.kth.cid.identity.URI', 'se.kth.cid.identity.URIUtil', 'se.kth.cid.identity.PathURN', 'se.kth.cid.identity.URN', 'se.kth.cid.identity.MIMEType', 'stempeluhr.validation.TimeChecker', 'org.jxpfw.util.InternationalBankAccountNumber', 'org.jxpfw.util.CLocale', 'com.prowidesoftware.swift.model.BIC', 'com.sun.jndi.toolkit.url.ConcreteURLContext', 'java.util.regex.Pattern', 'java.util.ArrayList', 'org.apache.commons.cli.CommandLine', 'org.jdom.Attribute', 'org.apache.commons.codec.language.DoubleMetaphone', 'org.joda.time.DateTime', 'org.jgrapht.alg.BellmanFordIterator', 'org.apache.commons.math3.transform.FastFourierTransformer', 'net.n3.nanoxml.XMLElement']\n"
     ]
    }
   ],
   "source": [
    "def higher(arr):\n",
    "    for i in arr:\n",
    "        if i > 0.0:\n",
    "            return True\n",
    "    return False\n",
    "\n",
    "CLASSES_COVERAGE = []\n",
    "CLASSES_NO_COVERAGE = []\n",
    "\n",
    "for claz in CLASES:\n",
    "    if ( higher(coverages_new[claz]) or higher(coverages_old[claz])):\n",
    "        CLASSES_COVERAGE.append(claz)\n",
    "    else:\n",
    "        CLASSES_NO_COVERAGE.append(claz)\n",
    "        \n",
    "print(\"classes with coverage: {}\".format(CLASSES_COVERAGE))\n",
    "print(\"classes without coverage: {}\".format(CLASSES_NO_COVERAGE))"
   ]
  },
  {
   "cell_type": "markdown",
   "metadata": {},
   "source": [
    "# Boxplots for results"
   ]
  },
  {
   "cell_type": "code",
   "execution_count": 34,
   "metadata": {},
   "outputs": [
    {
     "ename": "NameError",
     "evalue": "name 'CLASSES_COVERAGE' is not defined",
     "output_type": "error",
     "traceback": [
      "\u001b[0;31m---------------------------------------------------------------------------\u001b[0m",
      "\u001b[0;31mNameError\u001b[0m                                 Traceback (most recent call last)",
      "\u001b[0;32m<ipython-input-34-75ea1612181a>\u001b[0m in \u001b[0;36m<module>\u001b[0;34m\u001b[0m\n\u001b[1;32m      2\u001b[0m \u001b[0;32mfrom\u001b[0m \u001b[0mscipy\u001b[0m \u001b[0;32mimport\u001b[0m \u001b[0mstats\u001b[0m\u001b[0;34m\u001b[0m\u001b[0;34m\u001b[0m\u001b[0m\n\u001b[1;32m      3\u001b[0m \u001b[0;34m\u001b[0m\u001b[0m\n\u001b[0;32m----> 4\u001b[0;31m \u001b[0;32mfor\u001b[0m \u001b[0mclaz\u001b[0m \u001b[0;32min\u001b[0m \u001b[0mCLASSES_COVERAGE\u001b[0m\u001b[0;34m:\u001b[0m\u001b[0;34m\u001b[0m\u001b[0;34m\u001b[0m\u001b[0m\n\u001b[0m\u001b[1;32m      5\u001b[0m     \u001b[0mprint\u001b[0m\u001b[0;34m(\u001b[0m\u001b[0;34m\"################## Class: {} ##################\"\u001b[0m\u001b[0;34m.\u001b[0m\u001b[0mformat\u001b[0m\u001b[0;34m(\u001b[0m\u001b[0mclaz\u001b[0m\u001b[0;34m)\u001b[0m\u001b[0;34m)\u001b[0m\u001b[0;34m\u001b[0m\u001b[0;34m\u001b[0m\u001b[0m\n\u001b[1;32m      6\u001b[0m     \u001b[0;32mif\u001b[0m \u001b[0;34m(\u001b[0m\u001b[0;32mnot\u001b[0m \u001b[0;34m(\u001b[0m\u001b[0mlen\u001b[0m\u001b[0;34m(\u001b[0m\u001b[0mcoverages_new\u001b[0m\u001b[0;34m[\u001b[0m\u001b[0mclaz\u001b[0m\u001b[0;34m]\u001b[0m\u001b[0;34m)\u001b[0m \u001b[0;34m==\u001b[0m \u001b[0;36m0\u001b[0m \u001b[0;32mor\u001b[0m \u001b[0mlen\u001b[0m\u001b[0;34m(\u001b[0m\u001b[0mcoverages_old\u001b[0m\u001b[0;34m[\u001b[0m\u001b[0mclaz\u001b[0m\u001b[0;34m]\u001b[0m\u001b[0;34m)\u001b[0m \u001b[0;34m==\u001b[0m \u001b[0;36m0\u001b[0m\u001b[0;34m)\u001b[0m\u001b[0;34m)\u001b[0m\u001b[0;34m:\u001b[0m\u001b[0;34m\u001b[0m\u001b[0;34m\u001b[0m\u001b[0m\n",
      "\u001b[0;31mNameError\u001b[0m: name 'CLASSES_COVERAGE' is not defined"
     ]
    }
   ],
   "source": [
    "import time\n",
    "from scipy import stats\n",
    "\n",
    "for claz in CLASSES_COVERAGE:\n",
    "    print(\"################## Class: {} ##################\".format(claz))\n",
    "    if (not (len(coverages_new[claz]) == 0 or len(coverages_old[claz]) == 0)):\n",
    "        coveragess = [\n",
    "            coverages_old[claz],\n",
    "            coverages_new[claz]\n",
    "        ]\n",
    "        \n",
    "        print(\"stats data for new coverage\")\n",
    "        print(coverages_new[claz])\n",
    "        print(stats.describe(coverages_new[claz]))\n",
    "        print(\"stats data for old coverage\")\n",
    "        print(coverages_old[claz])\n",
    "        print(stats.describe(coverages_old[claz]))\n",
    "\n",
    "        fig1, ax1 = plt.subplots()\n",
    "        ax1.set_title('Basic Plot')\n",
    "        ax1.boxplot(coveragess)\n",
    "        plt.show()\n",
    "    else:\n",
    "        print(\"========= Fitered =========\")\n",
    "        print(claz)\n",
    "        print(\"===========================\")\n",
    "        \n",
    "    if (not (len(times_new[claz]) == 0 or len(times_old[claz]) == 0)):\n",
    "        timess = [\n",
    "            times_old[claz],\n",
    "            times_new[claz]\n",
    "        ]\n",
    "        \n",
    "        \n",
    "        print(\"stats data for new times\")\n",
    "        print(times_new[claz])\n",
    "        print(stats.describe(times_new[claz]))\n",
    "        print(\"stats data for old time\")\n",
    "        print(times_old[claz])\n",
    "        print(stats.describe(times_old[claz]))\n",
    "        \n",
    "        fig2, ax2 = plt.subplots()\n",
    "        ax2.set_title('Basic Plot')\n",
    "        ax2.boxplot(timess)\n",
    "        plt.show()\n",
    "    else:\n",
    "        print(\"========= Fitered =========\")\n",
    "        print(claz)\n",
    "        print(\"===========================\")"
   ]
  },
  {
   "cell_type": "markdown",
   "metadata": {},
   "source": [
    "Clases that contained Coverage were:\n",
    "    - CASNumber\n",
    "    - URIClassifier\n",
    "    - IBAN\n",
    "    - DateTimeFormat\n",
    "    \n",
    "As can be seen coverages were a bit different were the new exploration algorithm performed better at times \n",
    "    - CASNumes:\n",
    "        - new: 0.33\n",
    "        - old: 0.2\n",
    "    - URIClassifier\n",
    "        - new: 0.533\n",
    "        - old: 0.536\n",
    "    - IBAN:\n",
    "        - new: 0.065\n",
    "        - old: 0.065\n",
    "    - DateTimeFormat: This is the most interesting case as it contains several static methods which ends up in a lot of paths to explore, the search budget was 180 seconds and it kept having paths to explore after that. Even though coverage was almost 7% less than the old algorithm\n",
    "        - new: 0.48\n",
    "        - old: 0.56\n",
    "        "
   ]
  }
 ],
 "metadata": {
  "kernelspec": {
   "display_name": "Python 3",
   "language": "python",
   "name": "python3"
  },
  "language_info": {
   "codemirror_mode": {
    "name": "ipython",
    "version": 3
   },
   "file_extension": ".py",
   "mimetype": "text/x-python",
   "name": "python",
   "nbconvert_exporter": "python",
   "pygments_lexer": "ipython3",
   "version": "3.6.9"
  }
 },
 "nbformat": 4,
 "nbformat_minor": 2
}
