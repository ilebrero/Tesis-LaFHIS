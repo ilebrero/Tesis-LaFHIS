{
 "cells": [
  {
   "cell_type": "markdown",
   "metadata": {},
   "source": [
    "This script process statistics related to the experiments ran from the benchmark created \n",
    "\n",
    "TODO: Agregar urls, referencias, etc...\n"
   ]
  },
  {
   "cell_type": "code",
   "execution_count": 1,
   "metadata": {},
   "outputs": [],
   "source": [
    "import numpy as np\n",
    "import pandas as pd\n",
    "import matplotlib.pyplot as plt\n",
    "from scipy.stats import wilcoxon as wilcoxon\n",
    "from scipy.stats import stats "
   ]
  },
  {
   "cell_type": "markdown",
   "metadata": {},
   "source": [
    "Atributes that are going to be considered for tracking during iterations"
   ]
  },
  {
   "cell_type": "code",
   "execution_count": 2,
   "metadata": {},
   "outputs": [],
   "source": [
    "# Data that we'll keep track of\n",
    "\n",
    "CLASES = [\n",
    "    \"org.openscience.cdk.index.CASNumber\",\n",
    "    \"se.kth.cid.identity.ResourceURL\",\n",
    "    \"se.kth.cid.identity.URI\",\n",
    "    \"se.kth.cid.identity.URIClassifier\",\n",
    "    \"se.kth.cid.identity.URIUtil\",\n",
    "    \"se.kth.cid.identity.PathURN\",\n",
    "    \"se.kth.cid.identity.URN\",\n",
    "    \"se.kth.cid.identity.MIMEType\",\n",
    "    \"stempeluhr.validation.TimeChecker\",\n",
    "    \"org.jxpfw.util.InternationalBankAccountNumber\",\n",
    "    \"org.jxpfw.util.CLocale\",\n",
    "    \"com.prowidesoftware.swift.model.IBAN\",\n",
    "    \"com.prowidesoftware.swift.model.BIC\",\n",
    "    \"com.sun.jndi.toolkit.url.ConcreteURLContext\",\n",
    "    \"java.util.regex.Pattern\",\n",
    "    \"java.util.ArrayList\",\n",
    "    \"org.apache.commons.cli.CommandLine\",\n",
    "    \"org.jdom.Attribute\",\n",
    "    \"org.apache.commons.codec.language.DoubleMetaphone\",\n",
    "    \"org.joda.time.DateTime\",\n",
    "    \"org.joda.time.format.DateTimeFormat\",\n",
    "    \"org.jgrapht.alg.BellmanFordIterator\",\n",
    "    \"org.apache.commons.math3.transform.FastFourierTransformer\",\n",
    "    \"net.n3.nanoxml.XMLElement\"\n",
    "]\n",
    "\n",
    "TIME_ATTRS = [\n",
    "    \"Time_Check JUnit\",\n",
    "    \"Time_Coverage Analysis\",\n",
    "    \"Time_Done\",\n",
    "    \"Time_Generating assertions\",\n",
    "    \"Time_Initializing\",\n",
    "    \"Time_Inlining\",\n",
    "    \"Time_JUnit\",\n",
    "    \"Time_Minimizing\",\n",
    "    \"Time_Search\",\n",
    "]\n",
    "\n",
    "COLUMNS = [\n",
    "    \"Coverage\",\n",
    "    \"AvgPathConditionLength\",\n",
    "    \"Fitness\",\n",
    "    \"MaxPathConditionLength\",\n",
    "    \"MinPathConditionLength\",\n",
    "    \"NumberOfPathsDiverged\",\n",
    "    \"NumberOfPathsExplored\",\n",
    "    \"NumberOfSATQueries\"\n",
    "    \"NumberOfUsefulNewTests\",\n",
    "    \"NumberOfTimeoutQueries\",\n",
    "    \"NumberOfUNSATQueries\",\n",
    "    \"NumberOfUnusefulNewTests\",\n",
    "    \"Predicates\",\n",
    "    \"Time_Check JUnit\",\n",
    "    \"Time_Coverage Analysis\",\n",
    "    \"Time_Done\",\n",
    "    \"Time_Generating assertions\",\n",
    "    \"Time_Initializing\",\n",
    "    \"Time_Inlining\",\n",
    "    \"Time_JUnit\",\n",
    "    \"Time_Minimizing\",\n",
    "    \"Time_Search\",\n",
    "    \"Time_Statistics\"\n",
    "    \"TotalNumberOfConstraints\",\n",
    "    \"TotalTimeSpentExecutingConcolicaly\",\n",
    "    \"TotalTimeSpentSolvingConstraints\",\n",
    "    \"Total_Time\"\n",
    "]"
   ]
  },
  {
   "cell_type": "markdown",
   "metadata": {},
   "source": [
    "Init of internal data representation\n",
    "## Main idea\n",
    "For each tested class, track differences through iterations\n",
    "## Structure \n",
    "Class -> attribute -> algorithm_version -> iteration value"
   ]
  },
  {
   "cell_type": "code",
   "execution_count": 3,
   "metadata": {},
   "outputs": [
    {
     "name": "stdout",
     "output_type": "stream",
     "text": [
      "['Coverage', 'AvgPathConditionLength', 'Fitness', 'MaxPathConditionLength', 'MinPathConditionLength', 'NumberOfPathsDiverged', 'NumberOfPathsExplored', 'NumberOfSATQueriesNumberOfUsefulNewTests', 'NumberOfTimeoutQueries', 'NumberOfUNSATQueries', 'NumberOfUnusefulNewTests', 'Predicates', 'Time_Check JUnit', 'Time_Coverage Analysis', 'Time_Done', 'Time_Generating assertions', 'Time_Initializing', 'Time_Inlining', 'Time_JUnit', 'Time_Minimizing', 'Time_Search', 'Time_StatisticsTotalNumberOfConstraints', 'TotalTimeSpentExecutingConcolicaly', 'TotalTimeSpentSolvingConstraints', 'Total_Time']\n"
     ]
    }
   ],
   "source": [
    "print(COLUMNS)"
   ]
  },
  {
   "cell_type": "code",
   "execution_count": 4,
   "metadata": {},
   "outputs": [],
   "source": [
    "data = dict()\n",
    "\n",
    "for claz in CLASES:\n",
    "    data[claz] = dict()\n",
    "    \n",
    "    for col in COLUMNS:\n",
    "        data[claz][col] = dict()\n",
    "        data[claz][col][\"new_algorithm\"] = []\n",
    "        data[claz][col][\"old_algorithm\"] = []"
   ]
  },
  {
   "cell_type": "markdown",
   "metadata": {},
   "source": [
    "## Data recolection"
   ]
  },
  {
   "cell_type": "markdown",
   "metadata": {},
   "source": [
    "### New data style recolection"
   ]
  },
  {
   "cell_type": "code",
   "execution_count": 5,
   "metadata": {},
   "outputs": [],
   "source": [
    "# viejos = old_data.loc[:, \"TARGET_CLASS\"].to_numpy()\n",
    "# nuevos = new_data.loc[:, \"TARGET_CLASS\"].to_numpy()\n",
    "\n",
    "# viejos = np.delete(viejos,60)\n",
    "# nuevos = np.delete(nuevos,107)\n",
    "# nuevos = np.delete(nuevos,138)\n",
    "\n",
    "# for i in range(len(viejos)):\n",
    "#     if (not viejos[i] == nuevos[i]):\n",
    "#         print(\"difiere en {} | nuevo: {} | viejo: {}\".format(i, nuevos[i], viejos[i])) \n",
    "#     else:\n",
    "#         print(\"todo bien en {} | nuevo: {} | viejo: {}\".format(i, nuevos[i], viejos[i])) \n",
    "\n",
    "# # for index, claz in enumerate(old_data.loc[:, \"TARGET_CLASS\"].to_numpy()):\n",
    "# #     print(\"index: {} | claz: {}\".format(index, claz))"
   ]
  },
  {
   "cell_type": "code",
   "execution_count": 6,
   "metadata": {},
   "outputs": [],
   "source": [
    "new_data = pd.read_csv(\n",
    "    '../Benchmarks/clases_del_paper/repos/jars/evosuite-report/statistics_new_algorithm.csv'\n",
    ")\n",
    "old_data = pd.read_csv(\n",
    "    '../Benchmarks/clases_del_paper/repos/jars/evosuite-report/statistics_old_algorithm.csv'\n",
    ")\n",
    "\n",
    "for index, claz in enumerate(old_data.loc[:, \"TARGET_CLASS\"].to_numpy()):\n",
    "    for col in COLUMNS:\n",
    "\n",
    "        # If for any reason the experiment data is not there, we just skip it\n",
    "        # TODO: why this may happen??? \n",
    "        if (claz in old_data.loc[:, \"TARGET_CLASS\"].to_numpy() \n",
    "            and col  in old_data.columns):\n",
    "            data[claz][col][\"old_algorithm\"].append(\n",
    "                old_data.loc[index, col]\n",
    "            )\n",
    "\n",
    "for index, claz in enumerate(new_data.loc[:, \"TARGET_CLASS\"].to_numpy()):\n",
    "    for col in COLUMNS:\n",
    "\n",
    "        # If for any reason the experiment data is not there, we just skip it\n",
    "        # TODO: why this may happen???             \n",
    "        if (claz in new_data.loc[:, \"TARGET_CLASS\"].to_numpy() \n",
    "            and col  in new_data.columns):\n",
    "\n",
    "            data[claz][col][\"new_algorithm\"].append(\n",
    "                new_data.loc[index, col]\n",
    "            )"
   ]
  },
  {
   "cell_type": "markdown",
   "metadata": {},
   "source": [
    "# Data showoff"
   ]
  },
  {
   "cell_type": "markdown",
   "metadata": {},
   "source": [
    "### First case\n",
    "At first glance, generate the two columns for comparing the coverage and time data for the statistical tests."
   ]
  },
  {
   "cell_type": "code",
   "execution_count": 8,
   "metadata": {},
   "outputs": [],
   "source": [
    "coverages_old = dict()\n",
    "coverages_new = dict()\n",
    "\n",
    "times_old = dict()\n",
    "times_new = dict()\n",
    "\n",
    "for claz in CLASES:\n",
    "    coverages_old[claz] = []\n",
    "    coverages_new[claz] = []\n",
    "    times_old[claz] = []\n",
    "    times_new[claz] = []\n",
    "\n",
    "for claz in CLASES:\n",
    "    \n",
    "    # Coverages     \n",
    "    coverages_old[claz] = coverages_old[claz] + data[claz][\"Coverage\"][\"old_algorithm\"]\n",
    "    coverages_new[claz] = coverages_new[claz] + data[claz][\"Coverage\"][\"new_algorithm\"]\n",
    "    \n",
    "    # Times\n",
    "    times_old[claz] = times_old[claz] + data[claz][\"Total_Time\"][\"old_algorithm\"]\n",
    "    times_new[claz] = times_new[claz] + data[claz][\"Total_Time\"][\"new_algorithm\"]\n",
    "    \n",
    "\n",
    "# # Cleaning up clases that ran well on one sido but not on the other\n",
    "# coverages_old = np.delete(coverages_old,60)\n",
    "# coverages_new = np.delete(coverages_new,[107, 138])\n",
    "# times_old = np.delete(times_old,60)\n",
    "# times_new = np.delete(times_new,[107, 138])"
   ]
  },
  {
   "cell_type": "code",
   "execution_count": 9,
   "metadata": {},
   "outputs": [
    {
     "name": "stdout",
     "output_type": "stream",
     "text": [
      "#### Describing class: org.openscience.cdk.index.CASNumber\n",
      "coverage_old\n",
      "DescribeResult(nobs=10, minmax=(0.2, 0.2), mean=0.2, variance=0.0, skewness=0.0, kurtosis=-3.0)\n",
      "coverage_new\n",
      "DescribeResult(nobs=10, minmax=(0.3333333333333333, 0.3333333333333333), mean=0.33333333333333337, variance=3.4238754566884194e-33, skewness=-1.0, kurtosis=-2.0)\n",
      "time_old\n",
      "DescribeResult(nobs=10, minmax=(1761, 2135), mean=1983.4, variance=16608.266666666666, skewness=-0.7048296689694321, kurtosis=-0.9392022558312045)\n",
      "time_new\n",
      "DescribeResult(nobs=10, minmax=(2191, 2559), mean=2343.9, variance=13814.544444444444, skewness=0.49487962960966814, kurtosis=-0.798738241034497)\n",
      "#### Describing class: se.kth.cid.identity.ResourceURL\n",
      "coverage_old\n",
      "DescribeResult(nobs=10, minmax=(0.0, 0.0), mean=0.0, variance=0.0, skewness=0.0, kurtosis=-3.0)\n",
      "coverage_new\n",
      "DescribeResult(nobs=10, minmax=(0.0, 0.0), mean=0.0, variance=0.0, skewness=0.0, kurtosis=-3.0)\n",
      "time_old\n",
      "DescribeResult(nobs=10, minmax=(569, 825), mean=649.6, variance=5186.488888888889, skewness=1.4178728438580015, kurtosis=1.6556420592967767)\n",
      "time_new\n",
      "DescribeResult(nobs=10, minmax=(538, 663), mean=583.8, variance=1377.0666666666666, skewness=1.0213361295158438, kurtosis=0.1997177761771307)\n",
      "#### Describing class: se.kth.cid.identity.URI\n",
      "coverage_old\n",
      "DescribeResult(nobs=10, minmax=(0.0, 0.0), mean=0.0, variance=0.0, skewness=0.0, kurtosis=-3.0)\n",
      "coverage_new\n",
      "DescribeResult(nobs=10, minmax=(0.0, 0.0), mean=0.0, variance=0.0, skewness=0.0, kurtosis=-3.0)\n",
      "time_old\n",
      "DescribeResult(nobs=10, minmax=(683, 962), mean=746.2, variance=7126.177777777778, skewness=1.8657038577848843, kurtosis=2.3941065512578312)\n",
      "time_new\n",
      "DescribeResult(nobs=10, minmax=(659, 797), mean=709.3, variance=1946.4555555555553, skewness=0.6117868660711849, kurtosis=-0.5331917877013184)\n",
      "#### Describing class: se.kth.cid.identity.URIClassifier\n",
      "coverage_old\n",
      "DescribeResult(nobs=10, minmax=(0.5333333333333333, 0.5333333333333333), mean=0.5333333333333333, variance=0.0, skewness=0.0, kurtosis=-3.0)\n",
      "coverage_new\n",
      "DescribeResult(nobs=10, minmax=(0.5333333333333333, 0.5333333333333333), mean=0.5333333333333333, variance=0.0, skewness=0.0, kurtosis=-3.0)\n",
      "time_old\n",
      "DescribeResult(nobs=10, minmax=(3314, 5044), mean=3836.5, variance=367519.6111111111, skewness=0.9870801541355423, kurtosis=-0.4458076389979895)\n",
      "time_new\n",
      "DescribeResult(nobs=10, minmax=(2991, 3746), mean=3217.0, variance=64523.333333333336, skewness=1.1861914904545836, kurtosis=0.010844694538548083)\n",
      "#### Describing class: se.kth.cid.identity.URIUtil\n",
      "#### Describing class: se.kth.cid.identity.PathURN\n",
      "coverage_old\n",
      "DescribeResult(nobs=10, minmax=(0.0, 0.0), mean=0.0, variance=0.0, skewness=0.0, kurtosis=-3.0)\n",
      "coverage_new\n",
      "DescribeResult(nobs=10, minmax=(0.0, 0.0), mean=0.0, variance=0.0, skewness=0.0, kurtosis=-3.0)\n",
      "time_old\n",
      "DescribeResult(nobs=10, minmax=(521, 771), mean=613.2, variance=4507.511111111111, skewness=1.1318939101099932, kurtosis=1.2978810285476428)\n",
      "time_new\n",
      "DescribeResult(nobs=10, minmax=(542, 643), mean=577.9, variance=1247.211111111111, skewness=0.468195921847084, kurtosis=-1.0293370363151215)\n",
      "#### Describing class: se.kth.cid.identity.URN\n",
      "coverage_old\n",
      "DescribeResult(nobs=10, minmax=(0.0, 0.0), mean=0.0, variance=0.0, skewness=0.0, kurtosis=-3.0)\n",
      "coverage_new\n",
      "DescribeResult(nobs=10, minmax=(0.0, 0.0), mean=0.0, variance=0.0, skewness=0.0, kurtosis=-3.0)\n",
      "time_old\n",
      "DescribeResult(nobs=10, minmax=(556, 1104), mean=666.1, variance=27145.21111111111, skewness=2.1048737803471105, kurtosis=3.2321202505655027)\n",
      "time_new\n",
      "DescribeResult(nobs=10, minmax=(543, 909), mean=627.3, variance=10857.344444444443, skewness=2.1745541967466897, kurtosis=3.703743714668798)\n",
      "#### Describing class: se.kth.cid.identity.MIMEType\n",
      "coverage_old\n",
      "DescribeResult(nobs=10, minmax=(0.0, 0.0), mean=0.0, variance=0.0, skewness=0.0, kurtosis=-3.0)\n",
      "coverage_new\n",
      "DescribeResult(nobs=10, minmax=(0.0, 0.0), mean=0.0, variance=0.0, skewness=0.0, kurtosis=-3.0)\n",
      "time_old\n",
      "DescribeResult(nobs=10, minmax=(536, 735), mean=607.3, variance=3464.011111111111, skewness=0.8771295915229695, kurtosis=0.3022687382751803)\n",
      "time_new\n",
      "DescribeResult(nobs=10, minmax=(560, 691), mean=596.2, variance=1605.7333333333333, skewness=1.3650754316977212, kurtosis=1.1331310389480116)\n",
      "#### Describing class: stempeluhr.validation.TimeChecker\n",
      "coverage_old\n",
      "DescribeResult(nobs=10, minmax=(0.0, 0.0), mean=0.0, variance=0.0, skewness=0.0, kurtosis=-3.0)\n",
      "coverage_new\n",
      "DescribeResult(nobs=10, minmax=(0.0, 0.0), mean=0.0, variance=0.0, skewness=0.0, kurtosis=-3.0)\n",
      "time_old\n",
      "DescribeResult(nobs=10, minmax=(522, 857), mean=625.3, variance=8423.788888888892, skewness=1.6394934391087659, kurtosis=2.268077666043757)\n",
      "time_new\n",
      "DescribeResult(nobs=10, minmax=(513, 729), mean=592.7, variance=5869.344444444444, skewness=0.6766171498795367, kurtosis=-1.0313271287324077)\n",
      "#### Describing class: org.jxpfw.util.InternationalBankAccountNumber\n",
      "#### Describing class: org.jxpfw.util.CLocale\n",
      "#### Describing class: com.prowidesoftware.swift.model.IBAN\n",
      "coverage_old\n",
      "DescribeResult(nobs=10, minmax=(0.06521739130434782, 0.06521739130434782), mean=0.06521739130434781, variance=2.139922160430262e-34, skewness=1.0, kurtosis=-2.0)\n",
      "coverage_new\n",
      "DescribeResult(nobs=10, minmax=(0.06521739130434782, 0.06521739130434782), mean=0.06521739130434781, variance=2.139922160430262e-34, skewness=1.0, kurtosis=-2.0)\n",
      "time_old\n",
      "DescribeResult(nobs=10, minmax=(2724, 3981), mean=3028.2, variance=166460.6222222222, skewness=1.4255274852247912, kurtosis=0.913014553111045)\n",
      "time_new\n",
      "DescribeResult(nobs=10, minmax=(2583, 3523), mean=2886.8, variance=82339.51111111109, skewness=1.136664963159229, kurtosis=0.34769684160150005)\n",
      "#### Describing class: com.prowidesoftware.swift.model.BIC\n",
      "coverage_old\n",
      "DescribeResult(nobs=10, minmax=(0.0, 0.0), mean=0.0, variance=0.0, skewness=0.0, kurtosis=-3.0)\n",
      "coverage_new\n",
      "DescribeResult(nobs=10, minmax=(0.0, 0.0), mean=0.0, variance=0.0, skewness=0.0, kurtosis=-3.0)\n",
      "time_old\n",
      "DescribeResult(nobs=10, minmax=(783, 1581), mean=997.9, variance=84038.54444444446, skewness=1.3104097259200158, kurtosis=0.037126316870954135)\n",
      "time_new\n",
      "DescribeResult(nobs=10, minmax=(781, 1194), mean=875.1, variance=13615.655555555555, skewness=2.288838186968156, kurtosis=3.9589456749314724)\n",
      "#### Describing class: com.sun.jndi.toolkit.url.ConcreteURLContext\n",
      "#### Describing class: java.util.regex.Pattern\n",
      "#### Describing class: java.util.ArrayList\n",
      "#### Describing class: org.apache.commons.cli.CommandLine\n",
      "coverage_old\n",
      "DescribeResult(nobs=10, minmax=(0.0, 0.0), mean=0.0, variance=0.0, skewness=0.0, kurtosis=-3.0)\n",
      "coverage_new\n",
      "DescribeResult(nobs=10, minmax=(0.0, 0.0), mean=0.0, variance=0.0, skewness=0.0, kurtosis=-3.0)\n",
      "time_old\n",
      "DescribeResult(nobs=10, minmax=(699, 993), mean=813.9, variance=7634.322222222223, skewness=0.6734953684071706, kurtosis=-0.15236111902973715)\n",
      "time_new\n",
      "DescribeResult(nobs=10, minmax=(670, 1142), mean=806.8, variance=26941.733333333334, skewness=1.2381411658382682, kurtosis=-0.009014100366151911)\n",
      "#### Describing class: org.jdom.Attribute\n",
      "#### Describing class: org.apache.commons.codec.language.DoubleMetaphone\n",
      "coverage_old\n",
      "DescribeResult(nobs=10, minmax=(0.0, 0.0), mean=0.0, variance=0.0, skewness=0.0, kurtosis=-3.0)\n",
      "coverage_new\n",
      "DescribeResult(nobs=10, minmax=(0.0, 0.0), mean=0.0, variance=0.0, skewness=0.0, kurtosis=-3.0)\n",
      "time_old\n",
      "DescribeResult(nobs=10, minmax=(2932, 3753), mean=3247.8, variance=57279.73333333333, skewness=0.7653521906268095, kurtosis=0.09495235537923641)\n",
      "time_new\n",
      "DescribeResult(nobs=10, minmax=(3003, 3501), mean=3210.9, variance=30542.099999999995, skewness=0.4037162915354585, kurtosis=-1.2019287468417315)\n",
      "#### Describing class: org.joda.time.DateTime\n",
      "#### Describing class: org.joda.time.format.DateTimeFormat\n",
      "coverage_old\n",
      "DescribeResult(nobs=9, minmax=(0.38344226579520696, 0.6122004357298475), mean=0.5770999757927862, variance=0.005360526630835773, skewness=-2.4011028933945755, kurtosis=3.905515811532072)\n",
      "coverage_new\n",
      "DescribeResult(nobs=9, minmax=(0.3986928104575164, 0.5664488017429193), mean=0.47421931735657225, variance=0.005645976618679424, skewness=0.22360357905470096, kurtosis=-1.8875841683244574)\n",
      "time_old\n",
      "DescribeResult(nobs=9, minmax=(83080, 136772), mean=118896.11111111111, variance=287821001.1111111, skewness=-0.873424121098262, kurtosis=0.2635138493025284)\n",
      "time_new\n",
      "DescribeResult(nobs=9, minmax=(92250, 121263), mean=101286.44444444444, variance=96466874.77777778, skewness=1.1130988924159584, kurtosis=-0.05101492816964015)\n",
      "#### Describing class: org.jgrapht.alg.BellmanFordIterator\n",
      "coverage_old\n",
      "DescribeResult(nobs=10, minmax=(0.0, 0.0), mean=0.0, variance=0.0, skewness=0.0, kurtosis=-3.0)\n",
      "coverage_new\n",
      "DescribeResult(nobs=10, minmax=(0.0, 0.0), mean=0.0, variance=0.0, skewness=0.0, kurtosis=-3.0)\n",
      "time_old\n",
      "DescribeResult(nobs=10, minmax=(1241, 1600), mean=1382.4, variance=12873.155555555557, skewness=0.4084380112565401, kurtosis=-0.646793545102267)\n",
      "time_new\n",
      "DescribeResult(nobs=10, minmax=(1211, 2252), mean=1444.3, variance=149018.67777777778, skewness=1.5103772380355904, kurtosis=0.3854427792509578)\n",
      "#### Describing class: org.apache.commons.math3.transform.FastFourierTransformer\n",
      "coverage_old\n",
      "DescribeResult(nobs=10, minmax=(0.0, 0.0), mean=0.0, variance=0.0, skewness=0.0, kurtosis=-3.0)\n",
      "coverage_new\n",
      "DescribeResult(nobs=10, minmax=(0.0, 0.0), mean=0.0, variance=0.0, skewness=0.0, kurtosis=-3.0)\n",
      "time_old\n",
      "DescribeResult(nobs=10, minmax=(2197, 3148), mean=2618.6, variance=95144.04444444444, skewness=0.39707381868196034, kurtosis=-0.6289396118650035)\n",
      "time_new\n",
      "DescribeResult(nobs=10, minmax=(2297, 3846), mean=2747.8, variance=321619.51111111115, skewness=1.17820539423658, kurtosis=-0.22761521849902966)\n",
      "#### Describing class: net.n3.nanoxml.XMLElement\n",
      "coverage_old\n",
      "DescribeResult(nobs=10, minmax=(0.0, 0.0), mean=0.0, variance=0.0, skewness=0.0, kurtosis=-3.0)\n",
      "coverage_new\n",
      "DescribeResult(nobs=10, minmax=(0.0, 0.0), mean=0.0, variance=0.0, skewness=0.0, kurtosis=-3.0)\n",
      "time_old\n",
      "DescribeResult(nobs=10, minmax=(828, 1073), mean=942.9, variance=9059.655555555555, skewness=0.2771995858358109, kurtosis=-1.5251980776179146)\n",
      "time_new\n",
      "DescribeResult(nobs=10, minmax=(827, 1205), mean=972.5, variance=15944.722222222223, skewness=0.6111735702727766, kurtosis=-0.8074552425459518)\n"
     ]
    }
   ],
   "source": [
    "# times_new.pop(63)\n",
    "# times_new\n",
    "\n",
    "# coverages_new.pop(62) # 62 \n",
    "# coverages_new\n",
    "\n",
    "# coverages_old\n",
    "# coverages_new\n",
    "\n",
    "for claz in CLASES:\n",
    "    print(\"#### Describing class: {}\".format(claz))\n",
    "    \n",
    "    if (not (len(coverages_new[claz]) == 0 or len(coverages_old[claz]) == 0)):\n",
    "        print(\"coverage_old\")\n",
    "        print(stats.describe(coverages_old[claz]))\n",
    "        print(\"coverage_new\")\n",
    "        print(stats.describe(coverages_new[claz]))\n",
    "    \n",
    "    if (not (len(times_new[claz]) == 0 or len(times_old[claz]) == 0)):\n",
    "        print(\"time_old\")\n",
    "        print(stats.describe(times_old[claz]))\n",
    "        print(\"time_new\")\n",
    "        print(stats.describe(times_new[claz]))        \n",
    "        \n",
    "# for claz in CLASES:\n",
    "#     # Coverages\n",
    "#     print(data[claz][\"Coverage\"][\"new_algorithm\"])\n",
    "\n",
    "# wilcoxon(coverages_new, coverages_old)"
   ]
  },
  {
   "cell_type": "markdown",
   "metadata": {},
   "source": [
    "# Clases resulting in coverage higher than zero"
   ]
  },
  {
   "cell_type": "code",
   "execution_count": 27,
   "metadata": {},
   "outputs": [
    {
     "name": "stdout",
     "output_type": "stream",
     "text": [
      "classes with coverage: ['org.openscience.cdk.index.CASNumber', 'se.kth.cid.identity.URIClassifier', 'com.prowidesoftware.swift.model.IBAN', 'org.joda.time.format.DateTimeFormat']\n",
      "classes without coverage: ['se.kth.cid.identity.ResourceURL', 'se.kth.cid.identity.URI', 'se.kth.cid.identity.URIUtil', 'se.kth.cid.identity.PathURN', 'se.kth.cid.identity.URN', 'se.kth.cid.identity.MIMEType', 'stempeluhr.validation.TimeChecker', 'org.jxpfw.util.InternationalBankAccountNumber', 'org.jxpfw.util.CLocale', 'com.prowidesoftware.swift.model.BIC', 'com.sun.jndi.toolkit.url.ConcreteURLContext', 'java.util.regex.Pattern', 'java.util.ArrayList', 'org.apache.commons.cli.CommandLine', 'org.jdom.Attribute', 'org.apache.commons.codec.language.DoubleMetaphone', 'org.joda.time.DateTime', 'org.jgrapht.alg.BellmanFordIterator', 'org.apache.commons.math3.transform.FastFourierTransformer', 'net.n3.nanoxml.XMLElement']\n"
     ]
    }
   ],
   "source": [
    "def higher(arr):\n",
    "    for i in arr:\n",
    "        if i > 0.0:\n",
    "            return True\n",
    "    return False\n",
    "\n",
    "CLASSES_COVERAGE = []\n",
    "CLASSES_NO_COVERAGE = []\n",
    "\n",
    "for claz in CLASES:\n",
    "    if ( higher(coverages_new[claz]) or higher(coverages_old[claz])):\n",
    "        CLASSES_COVERAGE.append(claz)\n",
    "    else:\n",
    "        CLASSES_NO_COVERAGE.append(claz)\n",
    "        \n",
    "print(\"classes with coverage: {}\".format(CLASSES_COVERAGE))\n",
    "print(\"classes without coverage: {}\".format(CLASSES_NO_COVERAGE))"
   ]
  },
  {
   "cell_type": "markdown",
   "metadata": {},
   "source": [
    "# Boxplots for results"
   ]
  },
  {
   "cell_type": "code",
   "execution_count": 34,
   "metadata": {},
   "outputs": [
    {
     "name": "stdout",
     "output_type": "stream",
     "text": [
      "################## Class: org.openscience.cdk.index.CASNumber ##################\n",
      "stats data for new coverage\n",
      "DescribeResult(nobs=10, minmax=(0.3333333333333333, 0.3333333333333333), mean=0.33333333333333337, variance=3.4238754566884194e-33, skewness=-1.0, kurtosis=-2.0)\n",
      "stats data for old coverage\n",
      "DescribeResult(nobs=10, minmax=(0.2, 0.2), mean=0.2, variance=0.0, skewness=0.0, kurtosis=-3.0)\n"
     ]
    },
    {
     "data": {
      "image/png": "[encoded data removed]",
      "text/plain": [
       "<Figure size 432x288 with 1 Axes>"
      ]
     },
     "metadata": {
      "needs_background": "light"
     },
     "output_type": "display_data"
    },
    {
     "name": "stdout",
     "output_type": "stream",
     "text": [
      "stats data for new times\n",
      "DescribeResult(nobs=10, minmax=(2191, 2559), mean=2343.9, variance=13814.544444444444, skewness=0.49487962960966814, kurtosis=-0.798738241034497)\n",
      "stats data for old time\n",
      "DescribeResult(nobs=10, minmax=(1761, 2135), mean=1983.4, variance=16608.266666666666, skewness=-0.7048296689694321, kurtosis=-0.9392022558312045)\n"
     ]
    },
    {
     "data": {
      "image/png": "[encoded data removed]",
      "text/plain": [
       "<Figure size 432x288 with 1 Axes>"
      ]
     },
     "metadata": {
      "needs_background": "light"
     },
     "output_type": "display_data"
    },
    {
     "name": "stdout",
     "output_type": "stream",
     "text": [
      "################## Class: se.kth.cid.identity.URIClassifier ##################\n",
      "stats data for new coverage\n",
      "DescribeResult(nobs=10, minmax=(0.5333333333333333, 0.5333333333333333), mean=0.5333333333333333, variance=0.0, skewness=0.0, kurtosis=-3.0)\n",
      "stats data for old coverage\n",
      "DescribeResult(nobs=10, minmax=(0.5333333333333333, 0.5333333333333333), mean=0.5333333333333333, variance=0.0, skewness=0.0, kurtosis=-3.0)\n"
     ]
    },
    {
     "data": {
      "image/png": "[encoded data removed]",
      "text/plain": [
       "<Figure size 432x288 with 1 Axes>"
      ]
     },
     "metadata": {
      "needs_background": "light"
     },
     "output_type": "display_data"
    },
    {
     "name": "stdout",
     "output_type": "stream",
     "text": [
      "stats data for new times\n",
      "DescribeResult(nobs=10, minmax=(2991, 3746), mean=3217.0, variance=64523.333333333336, skewness=1.1861914904545836, kurtosis=0.010844694538548083)\n",
      "stats data for old time\n",
      "DescribeResult(nobs=10, minmax=(3314, 5044), mean=3836.5, variance=367519.6111111111, skewness=0.9870801541355423, kurtosis=-0.4458076389979895)\n"
     ]
    },
    {
     "data": {
      "image/png": "[encoded data removed]",
      "text/plain": [
       "<Figure size 432x288 with 1 Axes>"
      ]
     },
     "metadata": {
      "needs_background": "light"
     },
     "output_type": "display_data"
    },
    {
     "name": "stdout",
     "output_type": "stream",
     "text": [
      "################## Class: com.prowidesoftware.swift.model.IBAN ##################\n",
      "stats data for new coverage\n",
      "DescribeResult(nobs=10, minmax=(0.06521739130434782, 0.06521739130434782), mean=0.06521739130434781, variance=2.139922160430262e-34, skewness=1.0, kurtosis=-2.0)\n",
      "stats data for old coverage\n",
      "DescribeResult(nobs=10, minmax=(0.06521739130434782, 0.06521739130434782), mean=0.06521739130434781, variance=2.139922160430262e-34, skewness=1.0, kurtosis=-2.0)\n"
     ]
    },
    {
     "data": {
      "image/png": "[encoded data removed]",
      "text/plain": [
       "<Figure size 432x288 with 1 Axes>"
      ]
     },
     "metadata": {
      "needs_background": "light"
     },
     "output_type": "display_data"
    },
    {
     "name": "stdout",
     "output_type": "stream",
     "text": [
      "stats data for new times\n",
      "DescribeResult(nobs=10, minmax=(2583, 3523), mean=2886.8, variance=82339.51111111109, skewness=1.136664963159229, kurtosis=0.34769684160150005)\n",
      "stats data for old time\n",
      "DescribeResult(nobs=10, minmax=(2724, 3981), mean=3028.2, variance=166460.6222222222, skewness=1.4255274852247912, kurtosis=0.913014553111045)\n"
     ]
    },
    {
     "data": {
      "image/png": "[encoded data removed]",
      "text/plain": [
       "<Figure size 432x288 with 1 Axes>"
      ]
     },
     "metadata": {
      "needs_background": "light"
     },
     "output_type": "display_data"
    },
    {
     "name": "stdout",
     "output_type": "stream",
     "text": [
      "################## Class: org.joda.time.format.DateTimeFormat ##################\n",
      "stats data for new coverage\n",
      "DescribeResult(nobs=9, minmax=(0.3986928104575164, 0.5664488017429193), mean=0.47421931735657225, variance=0.005645976618679424, skewness=0.22360357905470096, kurtosis=-1.8875841683244574)\n",
      "stats data for old coverage\n",
      "DescribeResult(nobs=9, minmax=(0.38344226579520696, 0.6122004357298475), mean=0.5770999757927862, variance=0.005360526630835773, skewness=-2.4011028933945755, kurtosis=3.905515811532072)\n"
     ]
    },
    {
     "data": {
      "image/png": "[encoded data removed]",
      "text/plain": [
       "<Figure size 432x288 with 1 Axes>"
      ]
     },
     "metadata": {
      "needs_background": "light"
     },
     "output_type": "display_data"
    },
    {
     "name": "stdout",
     "output_type": "stream",
     "text": [
      "stats data for new times\n",
      "DescribeResult(nobs=9, minmax=(92250, 121263), mean=101286.44444444444, variance=96466874.77777778, skewness=1.1130988924159584, kurtosis=-0.05101492816964015)\n",
      "stats data for old time\n",
      "DescribeResult(nobs=9, minmax=(83080, 136772), mean=118896.11111111111, variance=287821001.1111111, skewness=-0.873424121098262, kurtosis=0.2635138493025284)\n"
     ]
    },
    {
     "data": {
      "image/png": "[encoded data removed]",
      "text/plain": [
       "<Figure size 432x288 with 1 Axes>"
      ]
     },
     "metadata": {
      "needs_background": "light"
     },
     "output_type": "display_data"
    }
   ],
   "source": [
    "import time\n",
    "from scipy import stats\n",
    "\n",
    "for claz in CLASSES_COVERAGE:\n",
    "    print(\"################## Class: {} ##################\".format(claz))\n",
    "    if (not (len(coverages_new[claz]) == 0 or len(coverages_old[claz]) == 0)):\n",
    "        coveragess = [\n",
    "            coverages_old[claz],\n",
    "            coverages_new[claz]\n",
    "        ]\n",
    "        \n",
    "        print(\"stats data for new coverage\")\n",
    "        print(stats.describe(coverages_new[claz]))\n",
    "        print(\"stats data for old coverage\")\n",
    "        print(stats.describe(coverages_old[claz]))\n",
    "\n",
    "        fig1, ax1 = plt.subplots()\n",
    "        ax1.set_title('Basic Plot')\n",
    "        ax1.boxplot(coveragess)\n",
    "        plt.show()\n",
    "        \n",
    "    if (not (len(times_new[claz]) == 0 or len(times_old[claz]) == 0)):\n",
    "        timess = [\n",
    "            times_old[claz],\n",
    "            times_new[claz]\n",
    "        ]\n",
    "        \n",
    "        \n",
    "        print(\"stats data for new times\")\n",
    "        print(stats.describe(times_new[claz]))\n",
    "        print(\"stats data for old time\")\n",
    "        print(stats.describe(times_old[claz]))\n",
    "        \n",
    "        fig2, ax2 = plt.subplots()\n",
    "        ax2.set_title('Basic Plot')\n",
    "        ax2.boxplot(timess)\n",
    "        plt.show()"
   ]
  },
  {
   "cell_type": "markdown",
   "metadata": {},
   "source": [
    "As can be seen in the "
   ]
  },
  {
   "cell_type": "code",
   "execution_count": 32,
   "metadata": {},
   "outputs": [
    {
     "data": {
      "text/plain": [
       "[0.6056644880174292,\n",
       " 0.6056644880174292,\n",
       " 0.38344226579520696,\n",
       " 0.6056644880174292,\n",
       " 0.599128540305011,\n",
       " 0.579520697167756,\n",
       " 0.5969498910675382,\n",
       " 0.6122004357298475,\n",
       " 0.6056644880174292]"
      ]
     },
     "execution_count": 32,
     "metadata": {},
     "output_type": "execute_result"
    }
   ],
   "source": [
    "coverages_old['org.joda.time.format.DateTimeFormat']\n",
    "# coverages_new['org.joda.time.format.DateTimeFormat']"
   ]
  },
  {
   "cell_type": "markdown",
   "metadata": {},
   "source": [
    "# Deprecated Stuff"
   ]
  },
  {
   "cell_type": "code",
   "execution_count": 5,
   "metadata": {},
   "outputs": [],
   "source": [
    "for iteration_index in range(1, 11):\n",
    "    iteration_new_data = pd.read_csv(\n",
    "        '../Benchmarks/clases_del_paper/repos/jars/report_new_algoritmo/statistics-iteration-{}.csv'\n",
    "            .format(iteration_index)\n",
    "    )\n",
    "    iteration_old_data = pd.read_csv(\n",
    "        '../Benchmarks/clases_del_paper/repos/jars/report_old_algoritmo/statistics-iteration-{}.csv'\n",
    "            .format(iteration_index)\n",
    "    )\n",
    "    \n",
    "    for index, claz in enumerate(iteration_old_data.loc[:, \"TARGET_CLASS\"].to_numpy()):\n",
    "        for col in COLUMNS:\n",
    "            \n",
    "            # If for any reason the experiment data is not there, we just skip it\n",
    "            # TODO: why this may happen??? \n",
    "            if (claz in iteration_old_data.loc[:, \"TARGET_CLASS\"].to_numpy() \n",
    "                and col  in iteration_old_data.columns):\n",
    "                data[claz][col][\"old_algorithm\"].append(\n",
    "                    iteration_old_data.loc[index, col]\n",
    "                )\n",
    "    \n",
    "    for index, claz in enumerate(iteration_new_data.loc[:, \"TARGET_CLASS\"].to_numpy()):\n",
    "        for col in COLUMNS:\n",
    "            \n",
    "            # If for any reason the experiment data is not there, we just skip it\n",
    "            # TODO: why this may happen???             \n",
    "            if (claz in iteration_new_data.loc[:, \"TARGET_CLASS\"].to_numpy() \n",
    "                and col  in iteration_new_data.columns):\n",
    "\n",
    "                data[claz][col][\"new_algorithm\"].append(\n",
    "                    iteration_new_data.loc[index, col]\n",
    "                )\n",
    "                "
   ]
  },
  {
   "cell_type": "code",
   "execution_count": null,
   "metadata": {},
   "outputs": [],
   "source": []
  }
 ],
 "metadata": {
  "kernelspec": {
   "display_name": "Python 3",
   "language": "python",
   "name": "python3"
  },
  "language_info": {
   "codemirror_mode": {
    "name": "ipython",
    "version": 3
   },
   "file_extension": ".py",
   "mimetype": "text/x-python",
   "name": "python",
   "nbconvert_exporter": "python",
   "pygments_lexer": "ipython3",
   "version": "3.6.9"
  }
 },
 "nbformat": 4,
 "nbformat_minor": 2
}
