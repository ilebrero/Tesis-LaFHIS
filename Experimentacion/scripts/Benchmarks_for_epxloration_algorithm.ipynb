{
 "cells": [
  {
   "cell_type": "code",
   "execution_count": 5,
   "metadata": {},
   "outputs": [],
   "source": [
    "library('effsize')"
   ]
  },
  {
   "cell_type": "code",
   "execution_count": 12,
   "metadata": {},
   "outputs": [],
   "source": [
    "# Coverage\n",
    "coverage_new = c(0.33333333, 0.33333333, 0.33333333, 0.33333333, 0.33333333,0.33333333, 0.33333333, 0.33333333, 0.33333333, 0.33333333,0., 0., 0., 0., 0.,0., 0., 0., 0., 0.,0., 0., 0., 0., 0.,0., 0., 0., 0., 0.,0.53333333, 0.53333333, 0.53333333, 0.53333333, 0.53333333,0.53333333, 0.53333333, 0.53333333, 0.53333333, 0.53333333,0., 0., 0., 0., 0.,0., 0., 0., 0., 0.,0., 0., 0., 0., 0.,0., 0., 0., 0., 0.,0., 0., 0., 0., 0.,0., 0., 0., 0., 0.,0., 0., 0., 0., 0.,0., 0., 0., 0., 0.,0.06521739, 0.06521739, 0.06521739, 0.06521739, 0.06521739,0.06521739, 0.06521739, 0.06521739, 0.06521739, 0.06521739,0., 0., 0., 0., 0.,0., 0., 0., 0., 0.,0., 0., 0., 0., 0.,0., 0., 0., 0., 0.,0., 0., 0., 0., 0.,0., 0., 0., 0., 0.39869281,0.5664488 , 0.54248366, 0.41394336, 0.41830065, 0.55555556,0.40522876, 0.4204793 , 0.54684096, 0., 0.,0., 0., 0., 0., 0.,0., 0., 0., 0., 0.,0., 0., 0., 0., 0.,0., 0., 0., 0., 0.,0., 0., 0., 0., 0.,0., 0. )\n",
    "coverage_old = c(0.2, 0.2, 0.2, 0.2, 0.2, 0.2, 0.2, 0.2, 0.2, 0.2, 0., 0., 0., 0., 0., 0., 0., 0., 0., 0., 0., 0., 0., 0., 0., 0., 0., 0., 0., 0., 0.53333333, 0.53333333, 0.53333333, 0.53333333, 0.53333333, 0.53333333, 0.53333333, 0.53333333, 0.53333333, 0.53333333, 0., 0., 0., 0., 0., 0., 0., 0., 0., 0., 0., 0., 0., 0., 0., 0., 0., 0., 0., 0., 0., 0., 0., 0., 0., 0., 0., 0., 0., 0., 0., 0., 0., 0., 0., 0., 0., 0., 0., 0.06521739, 0.06521739, 0.06521739, 0.06521739, 0.06521739, 0.06521739, 0.06521739, 0.06521739, 0.06521739, 0.06521739, 0., 0., 0., 0., 0., 0., 0., 0., 0., 0., 0., 0., 0., 0., 0., 0., 0., 0., 0., 0., 0., 0., 0., 0., 0., 0., 0., 0., 0., 0., 0.60566449, 0.60566449, 0.38344227, 0.60566449, 0.59912854, 0.5795207 , 0.59694989, 0.60566449, 0., 0., 0., 0., 0., 0., 0., 0., 0., 0., 0., 0., 0., 0., 0., 0., 0., 0., 0., 0., 0., 0., 0., 0., 0., 0., 0., 0., 0., 0.)\n",
    "\n",
    "#  run times\n",
    "times_old = c(1797,1761,1869,1998,2038,2135,2039,2025,2094,2078,569,585,625,600,653,635,680,825,643,681,704,738,694,683,703,715,807,758,962,698,4152,3978,3407,5044,4655,3362,3538,3434,3481,3314,565,521,617,560,771,596,603,634,618,647,606,620,562,583,610,583,1104,745,692,556,573,541,630,606,581,595,616,735,660,569,569,522,631,651,568,857,627,653,606,2757,2836,2735,2901,3414,2743,3247,2944,3981,2724,825,1475,783,838,998,813,817,856,1581,993,699,899,726,800,993,743,780,851,840,808,2932,3070,3009,3143,3753,3477,3250,3224,3317,3303,115986,117883,83080,135004,120023,107777,117221,136772,1396,1254,1292,1241,1600,1481,1438,1428,1291,1403,2197,2234,2673,2653,2564,2426,2562,2662,3067,3148,863,872,971,828,1073,1053,850,1065,966,888)\n",
    "times_new = c(2231,2373,2318,2482,2559,2429,2297,2322,2191,2237,559,555,629,590,663,538,564,586,575,579,663,735,659,737,797,701,745,706,678,672,2991,3289,3050,3580,3746,3194,3021,3148,3051,3100,542,561,545,606,643,598,545,586,545,608,548,627,622,909,630,593,543,568,615,618,563,691,610,585,628,560,570,564,596,595,572,729,573,678,682,590,513,531,526,533,2641,2862,2784,3100,3523,3139,2754,2583,2781,2701,822,899,845,871,1194,818,863,832,781,826,715,1142,681,1060,846,728,670,768,700,3003,3361,3159,3501,3430,3099,3036,3048,3277,3195,121263,113370,99538,101211,  97032,  94009,  92250,92978,99927,1282,1237,2252,1290,2089,1211,1290,1225,1252,3846,2578,2931,2623,3678,2385,2326,2396,2297,2418,1128,873,1205,1074,974,837,937,962,908,827)\n"
   ]
  },
  {
   "cell_type": "markdown",
   "metadata": {},
   "source": [
    "# Vargha-Delaney effect size\n",
    "Effect size for both Coverage and Running times"
   ]
  },
  {
   "cell_type": "code",
   "execution_count": 13,
   "metadata": {},
   "outputs": [
    {
     "name": "stdout",
     "output_type": "stream",
     "text": [
      "[1] \"Coverage\"\n"
     ]
    },
    {
     "ename": "ERROR",
     "evalue": "Error in \"character\" %in% class(f): objeto 'coverage__old' no encontrado\n",
     "output_type": "error",
     "traceback": [
      "Error in \"character\" %in% class(f): objeto 'coverage__old' no encontrado\nTraceback:\n",
      "1. VD.A(coverage_new, coverage__old)",
      "2. VD.A.default(coverage_new, coverage__old)",
      "3. \"character\" %in% class(f)"
     ]
    }
   ],
   "source": [
    "print('Coverage')\n",
    "VD.A(coverage_new, coverage__old)\n",
    "\n",
    "print('Run Times')\n",
    "VD.A(times_old, times_new)"
   ]
  },
  {
   "cell_type": "markdown",
   "metadata": {},
   "source": [
    "# Wilcoxon\n",
    "As both results are negligible we run the wilcoxon test"
   ]
  },
  {
   "cell_type": "code",
   "execution_count": 17,
   "metadata": {
    "scrolled": true
   },
   "outputs": [
    {
     "name": "stdout",
     "output_type": "stream",
     "text": [
      "[1] \"Coverage\"\n"
     ]
    },
    {
     "data": {
      "text/plain": [
       "\n",
       "\tWilcoxon rank sum test with continuity correction\n",
       "\n",
       "data:  coverage_old and coverage_new\n",
       "W = 12248, p-value = 0.9004\n",
       "alternative hypothesis: true location shift is not equal to 0\n"
      ]
     },
     "metadata": {},
     "output_type": "display_data"
    },
    {
     "name": "stdout",
     "output_type": "stream",
     "text": [
      "[1] \"Run Times\"\n"
     ]
    },
    {
     "data": {
      "text/plain": [
       "\n",
       "\tWilcoxon rank sum test with continuity correction\n",
       "\n",
       "data:  times_old and times_new\n",
       "W = 12962, p-value = 0.4284\n",
       "alternative hypothesis: true location shift is not equal to 0\n"
      ]
     },
     "metadata": {},
     "output_type": "display_data"
    }
   ],
   "source": [
    "print('Coverage')\n",
    "wilcox.test(coverage_old, coverage_new, paired = FALSE)\n",
    "\n",
    "print('Run Times')\n",
    "wilcox.test(times_old, times_new, paired = FALSE)"
   ]
  },
  {
   "cell_type": "markdown",
   "metadata": {},
   "source": [
    "## Results\n",
    "As can be seen in the previous section, the new exploration algorithm shows no significant improvements in comparision to the old one."
   ]
  }
 ],
 "metadata": {
  "kernelspec": {
   "display_name": "R",
   "language": "R",
   "name": "ir"
  },
  "language_info": {
   "codemirror_mode": "r",
   "file_extension": ".r",
   "mimetype": "text/x-r-source",
   "name": "R",
   "pygments_lexer": "r",
   "version": "3.4.4"
  }
 },
 "nbformat": 4,
 "nbformat_minor": 2
}
