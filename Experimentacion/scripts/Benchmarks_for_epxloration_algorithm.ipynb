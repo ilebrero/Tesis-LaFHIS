{
 "cells": [
  {
   "cell_type": "code",
   "execution_count": 11,
   "metadata": {},
   "outputs": [],
   "source": [
    "library('effsize')"
   ]
  },
  {
   "cell_type": "code",
   "execution_count": 21,
   "metadata": {},
   "outputs": [],
   "source": [
    "# URIClassifier\n",
    "coverage_new_URI = c(0.7333333333333333, 0.5666666666666667, 0.5666666666666667, 0.5666666666666667, 0.7333333333333333, 0.5666666666666667, 0.5666666666666667, 0.6, 0.9333333333333332, 0.6333333333333333)\n",
    "coverage_old_URI = c(0.5333333333333333, 0.5333333333333333, 0.5333333333333333, 0.5333333333333333, 0.5333333333333333, 0.5, 0.5666666666666667, 0.5333333333333333, 0.5333333333333333, 0.5666666666666667)"
   ]
  },
  {
   "cell_type": "code",
   "execution_count": 22,
   "metadata": {},
   "outputs": [],
   "source": [
    "# IBAN\n",
    "coverage_new_IBAN = c(0.06521739130434782, 0.06521739130434782, 0.06521739130434782, 0.06521739130434782, 0.06521739130434782, 0.06521739130434782, 0.06521739130434782, 0.06521739130434782, 0.06521739130434782, 0.06521739130434782)\n",
    "coverage_old_IBAN = c(0.06521739130434782, 0.06521739130434782, 0.06521739130434782, 0.06521739130434782, 0.06521739130434782, 0.06521739130434782, 0.06521739130434782, 0.06521739130434782, 0.06521739130434782, 0.06521739130434782)"
   ]
  },
  {
   "cell_type": "code",
   "execution_count": 23,
   "metadata": {},
   "outputs": [],
   "source": [
    "# DateTimeFormat\n",
    "coverage_new_DATE = c(0.4248366013071895, 0.5708061002178649, 0.5381263616557734, 0.3747276688453159, 0.3986928104575164, 0.5424836601307189, 0.3965141612200436, 0.5424836601307189, 0.40522875816993453, 0.4183006535947713)\n",
    "coverage_old_DATE = c(0.6209150326797386, 0.6187363834422658, 0.6013071895424836, 0.6230936819172114, 0.6013071895424836, 0.616557734204793, 0.6100217864923747, 0.6143790849673203, 0.6601307189542484, 0.6230936819172114)"
   ]
  },
  {
   "cell_type": "markdown",
   "metadata": {},
   "source": [
    "# Vargha-Delaney effect size\n",
    "Effect size for both Coverage and Running times"
   ]
  },
  {
   "cell_type": "code",
   "execution_count": 28,
   "metadata": {},
   "outputs": [
    {
     "name": "stdout",
     "output_type": "stream",
     "text": [
      "[1] \"URI\"\n"
     ]
    },
    {
     "data": {
      "text/plain": [
       "\n",
       "Vargha and Delaney A\n",
       "\n",
       "A estimate: 0.95 (large)\n"
      ]
     },
     "metadata": {},
     "output_type": "display_data"
    },
    {
     "name": "stdout",
     "output_type": "stream",
     "text": [
      "[1] \"IBAN\"\n"
     ]
    },
    {
     "data": {
      "text/plain": [
       "\n",
       "Vargha and Delaney A\n",
       "\n",
       "A estimate: 0.5 (negligible)\n"
      ]
     },
     "metadata": {},
     "output_type": "display_data"
    },
    {
     "name": "stdout",
     "output_type": "stream",
     "text": [
      "[1] \"DateTime\"\n"
     ]
    },
    {
     "data": {
      "text/plain": [
       "\n",
       "Vargha and Delaney A\n",
       "\n",
       "A estimate: 0 (large)\n"
      ]
     },
     "metadata": {},
     "output_type": "display_data"
    }
   ],
   "source": [
    "print('URI')\n",
    "VD.A(coverage_new_URI, coverage_old_URI)\n",
    "\n",
    "print('IBAN')\n",
    "VD.A(coverage_new_IBAN, coverage_old_IBAN)\n",
    "\n",
    "print('DateTime')\n",
    "VD.A(coverage_new_DATE, coverage_old_DATE)\n"
   ]
  },
  {
   "cell_type": "markdown",
   "metadata": {},
   "source": [
    "# Wilcoxon\n",
    "As both results are negligible we run the wilcoxon test"
   ]
  },
  {
   "cell_type": "code",
   "execution_count": 27,
   "metadata": {
    "scrolled": true
   },
   "outputs": [
    {
     "name": "stdout",
     "output_type": "stream",
     "text": [
      "[1] \"URI\"\n"
     ]
    },
    {
     "name": "stderr",
     "output_type": "stream",
     "text": [
      "Warning message in wilcox.test.default(coverage_new_URI, coverage_old_URI):\n",
      "“cannot compute exact p-value with ties”\n"
     ]
    },
    {
     "data": {
      "text/plain": [
       "\n",
       "\tWilcoxon rank sum test with continuity correction\n",
       "\n",
       "data:  coverage_new_URI and coverage_old_URI\n",
       "W = 95, p-value = 0.0004371\n",
       "alternative hypothesis: true location shift is not equal to 0\n"
      ]
     },
     "metadata": {},
     "output_type": "display_data"
    },
    {
     "name": "stdout",
     "output_type": "stream",
     "text": [
      "[1] \"IBAN\"\n"
     ]
    },
    {
     "name": "stderr",
     "output_type": "stream",
     "text": [
      "Warning message in wilcox.test.default(coverage_new_IBAN, coverage_old_IBAN):\n",
      "“cannot compute exact p-value with ties”\n"
     ]
    },
    {
     "data": {
      "text/plain": [
       "\n",
       "\tWilcoxon rank sum test with continuity correction\n",
       "\n",
       "data:  coverage_new_IBAN and coverage_old_IBAN\n",
       "W = 50, p-value = NA\n",
       "alternative hypothesis: true location shift is not equal to 0\n"
      ]
     },
     "metadata": {},
     "output_type": "display_data"
    },
    {
     "name": "stdout",
     "output_type": "stream",
     "text": [
      "[1] \"DateTime\"\n"
     ]
    },
    {
     "name": "stderr",
     "output_type": "stream",
     "text": [
      "Warning message in wilcox.test.default(coverage_new_DATE, coverage_old_DATE):\n",
      "“cannot compute exact p-value with ties”\n"
     ]
    },
    {
     "data": {
      "text/plain": [
       "\n",
       "\tWilcoxon rank sum test with continuity correction\n",
       "\n",
       "data:  coverage_new_DATE and coverage_old_DATE\n",
       "W = 0, p-value = 0.0001796\n",
       "alternative hypothesis: true location shift is not equal to 0\n"
      ]
     },
     "metadata": {},
     "output_type": "display_data"
    }
   ],
   "source": [
    "print('URI')\n",
    "wilcox.test(coverage_new_URI, coverage_old_URI)\n",
    "\n",
    "print('IBAN')\n",
    "wilcox.test(coverage_new_IBAN, coverage_old_IBAN)\n",
    "\n",
    "print('DateTime')\n",
    "wilcox.test(coverage_new_DATE, coverage_old_DATE)\n"
   ]
  },
  {
   "cell_type": "markdown",
   "metadata": {},
   "source": [
    "## Results\n",
    "As can be seen in the previous section, the new exploration algorithm shows no significant improvements in comparision to the old one."
   ]
  }
 ],
 "metadata": {
  "kernelspec": {
   "display_name": "R",
   "language": "R",
   "name": "ir"
  },
  "language_info": {
   "codemirror_mode": "r",
   "file_extension": ".r",
   "mimetype": "text/x-r-source",
   "name": "R",
   "pygments_lexer": "r",
   "version": "3.4.4"
  }
 },
 "nbformat": 4,
 "nbformat_minor": 2
}
